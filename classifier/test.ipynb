{
 "cells": [
  {
   "cell_type": "markdown",
   "metadata": {},
   "source": [
    "# Test data loader"
   ]
  },
  {
   "cell_type": "code",
   "execution_count": 1,
   "metadata": {},
   "outputs": [],
   "source": [
    "import os\n",
    "os.environ[\"KMP_DUPLICATE_LIB_OK\"]=\"TRUE\""
   ]
  },
  {
   "cell_type": "code",
   "execution_count": null,
   "metadata": {},
   "outputs": [],
   "source": [
    "from data.data import CIFARData\n",
    "from config import configs\n",
    "data = CIFARData(configs)\n",
    "data.show_batch(\"test\")"
   ]
  },
  {
   "cell_type": "code",
   "execution_count": null,
   "metadata": {},
   "outputs": [],
   "source": [
    "data.show_batch(\"train\")"
   ]
  },
  {
   "cell_type": "markdown",
   "metadata": {},
   "source": [
    "# Test trainer"
   ]
  },
  {
   "cell_type": "code",
   "execution_count": null,
   "metadata": {},
   "outputs": [],
   "source": [
    "from train.train import Trainer\n",
    "\n",
    "trainer = Trainer(configs, data)"
   ]
  },
  {
   "cell_type": "code",
   "execution_count": null,
   "metadata": {
    "scrolled": true
   },
   "outputs": [],
   "source": [
    "trainer.train()"
   ]
  },
  {
   "cell_type": "code",
   "execution_count": null,
   "metadata": {},
   "outputs": [],
   "source": [
    "trainer.load_checkpoint(\"checkpoint_1\")"
   ]
  },
  {
   "cell_type": "code",
   "execution_count": null,
   "metadata": {},
   "outputs": [],
   "source": [
    "trainer.evaluate(\"test\")"
   ]
  },
  {
   "cell_type": "code",
   "execution_count": null,
   "metadata": {},
   "outputs": [],
   "source": [
    "from utils.metric import Accuracy\n",
    "trainer.evaluate(\"test\", Accuracy())"
   ]
  },
  {
   "cell_type": "code",
   "execution_count": null,
   "metadata": {},
   "outputs": [],
   "source": [
    "trainer.update_lr(0.01)"
   ]
  },
  {
   "cell_type": "code",
   "execution_count": null,
   "metadata": {},
   "outputs": [],
   "source": [
    "\n"
   ]
  },
  {
   "cell_type": "markdown",
   "metadata": {},
   "source": [
    "# # Test metric"
   ]
  },
  {
   "cell_type": "code",
   "execution_count": null,
   "metadata": {},
   "outputs": [],
   "source": [
    "from utils.metric import Accuracy\n",
    "import torch"
   ]
  },
  {
   "cell_type": "code",
   "execution_count": null,
   "metadata": {},
   "outputs": [],
   "source": [
    "class Accuracy:\n",
    "    def __init__(self, threshold = 0.5, from_logits:bool = True):\n",
    "        self.threshold = threshold\n",
    "        self.from_logis = from_logits\n",
    "    \n",
    "    def __call__(self, y_pred: torch.Tensor, y_true: torch.Tensor) -> torch.Tensor:\n",
    "        if self.from_logis:\n",
    "            y_pred, y_true = self._conversion(y_pred, y_true, self.threshold)\n",
    "        return torch.mean((y_pred == y_true).float())\n",
    "    \n",
    "    def _conversion(self, y_pred, y_true, threshold):\n",
    "        if len(y_pred.shape) == len(y_true.shape) + 1:\n",
    "            y_pred = torch.argmax(y_pred, dim = 1)\n",
    "        if len(y_pred.shape) == len(y_true.shape) and y_pred.dtype == torch.float:\n",
    "            y_pred = (y_pred > threshold).float()\n",
    "        return y_pred, y_true"
   ]
  },
  {
   "cell_type": "code",
   "execution_count": null,
   "metadata": {},
   "outputs": [],
   "source": [
    "import torch\n",
    "torch.clip"
   ]
  },
  {
   "cell_type": "code",
   "execution_count": null,
   "metadata": {},
   "outputs": [],
   "source": [
    "class Precision:\n",
    "    def __init__(self, epsilon = 1e-10):\n",
    "        self.epsilon = epsilon\n",
    "\n",
    "    def __call__(self, y_pred: torch.Tensor, y_true: torch.Tensor) -> torch.Tensor:\n",
    "        true_positive = torch.sum(torch.round(torch.clamp(y_pred*y_true, 0, 1)))\n",
    "        num_positive = torch.sum(torch.round(torch.clamp(y_pred, 0, 1)))\n",
    "        return true_positive/(num_positive+self.epsilon)"
   ]
  },
  {
   "cell_type": "code",
   "execution_count": null,
   "metadata": {},
   "outputs": [],
   "source": [
    "from utils.metric import Fbeta_Score\n",
    "import torch\n",
    "x = torch.Tensor([1, 0, 1, 1])\n",
    "# y = torch.zeros((4,), dtype = torch.int64)\n",
    "y = torch.Tensor([0, 1, 0, 1])\n",
    "\n",
    "betaScore = Fbeta_Score()\n",
    "betaScore(x, y)"
   ]
  },
  {
   "cell_type": "code",
   "execution_count": null,
   "metadata": {},
   "outputs": [],
   "source": [
    "from utils.metric import IOU\n",
    "\n",
    "import torch\n",
    "x = torch.tensor([[\n",
    "    [1, 0, 0],\n",
    "    [1, 0, 0],\n",
    "    [1, 0, 0],\n",
    "]])\n",
    "y = torch.tensor([[\n",
    "    [1, 0, 0],\n",
    "    [1, 1, 0],\n",
    "    [1, 0, 0],\n",
    "]])\n",
    "iou = IOU(0.5)\n",
    "iou(x, y)\n"
   ]
  },
  {
   "cell_type": "markdown",
   "metadata": {},
   "source": [
    "# Split train test"
   ]
  },
  {
   "cell_type": "code",
   "execution_count": null,
   "metadata": {},
   "outputs": [],
   "source": [
    "import os\n",
    "os.environ[\"KMP_DUPLICATE_LIB_OK\"]=\"TRUE\"\n",
    "\n",
    "from dataset.MenWomanDataset import split_train_test_folder\n",
    "split_train_test_folder('E:\\data\\MenWoman', 0.9)"
   ]
  },
  {
   "cell_type": "code",
   "execution_count": null,
   "metadata": {},
   "outputs": [],
   "source": [
    "import os\n",
    "def load_train_img(file_path):\n",
    "    print(file_path)\n",
    "    file_ = open(file_path, \"r\")\n",
    "    list_ = file_.readlines()\n",
    "    list_img = []\n",
    "    list_label = []\n",
    "    for line in list_:\n",
    "        img_name, label = line.replace(\"\\n\",\"\").split(\",\")\n",
    "        list_img.append(img_name)\n",
    "        list_label.append(int(label))\n",
    "    return list_img, list_label\n",
    "list_img, list_label = load_train_img(\"E:\\data\\data\\\\test.txt\")\n",
    "\n",
    "from skimage import io\n",
    "io.imread(os.path.join(\"E:\\data\\data\", list_img[0]))"
   ]
  },
  {
   "cell_type": "code",
   "execution_count": null,
   "metadata": {},
   "outputs": [],
   "source": [
    "from skimage import io\n"
   ]
  }
 ],
 "metadata": {
  "kernelspec": {
   "display_name": "Python 3",
   "language": "python",
   "name": "python3"
  },
  "language_info": {
   "codemirror_mode": {
    "name": "ipython",
    "version": 3
   },
   "file_extension": ".py",
   "mimetype": "text/x-python",
   "name": "python",
   "nbconvert_exporter": "python",
   "pygments_lexer": "ipython3",
   "version": "3.6.9"
  }
 },
 "nbformat": 4,
 "nbformat_minor": 4
}
