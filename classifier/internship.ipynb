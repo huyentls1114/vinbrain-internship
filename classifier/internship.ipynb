{
  "nbformat": 4,
  "nbformat_minor": 0,
  "metadata": {
    "colab": {
      "name": "internship.ipynb",
      "provenance": [],
      "collapsed_sections": [
        "uLCXWJCLbMFv"
      ],
      "toc_visible": true
    },
    "kernelspec": {
      "name": "python3",
      "display_name": "Python 3"
    },
    "accelerator": "GPU",
    "widgets": {
      "application/vnd.jupyter.widget-state+json": {
        "d0099da002964801a03a33fad157114a": {
          "model_module": "@jupyter-widgets/controls",
          "model_name": "HBoxModel",
          "state": {
            "_view_name": "HBoxView",
            "_dom_classes": [],
            "_model_name": "HBoxModel",
            "_view_module": "@jupyter-widgets/controls",
            "_model_module_version": "1.5.0",
            "_view_count": null,
            "_view_module_version": "1.5.0",
            "box_style": "",
            "layout": "IPY_MODEL_acb6863c6fa841dcb8af4cfb29e93961",
            "_model_module": "@jupyter-widgets/controls",
            "children": [
              "IPY_MODEL_b61451e562fe45bdb5126be8116228b2",
              "IPY_MODEL_a07da1969e94444ba4a0e95f872031bd"
            ]
          }
        },
        "acb6863c6fa841dcb8af4cfb29e93961": {
          "model_module": "@jupyter-widgets/base",
          "model_name": "LayoutModel",
          "state": {
            "_view_name": "LayoutView",
            "grid_template_rows": null,
            "right": null,
            "justify_content": null,
            "_view_module": "@jupyter-widgets/base",
            "overflow": null,
            "_model_module_version": "1.2.0",
            "_view_count": null,
            "flex_flow": null,
            "width": null,
            "min_width": null,
            "border": null,
            "align_items": null,
            "bottom": null,
            "_model_module": "@jupyter-widgets/base",
            "top": null,
            "grid_column": null,
            "overflow_y": null,
            "overflow_x": null,
            "grid_auto_flow": null,
            "grid_area": null,
            "grid_template_columns": null,
            "flex": null,
            "_model_name": "LayoutModel",
            "justify_items": null,
            "grid_row": null,
            "max_height": null,
            "align_content": null,
            "visibility": null,
            "align_self": null,
            "height": null,
            "min_height": null,
            "padding": null,
            "grid_auto_rows": null,
            "grid_gap": null,
            "max_width": null,
            "order": null,
            "_view_module_version": "1.2.0",
            "grid_template_areas": null,
            "object_position": null,
            "object_fit": null,
            "grid_auto_columns": null,
            "margin": null,
            "display": null,
            "left": null
          }
        },
        "b61451e562fe45bdb5126be8116228b2": {
          "model_module": "@jupyter-widgets/controls",
          "model_name": "FloatProgressModel",
          "state": {
            "_view_name": "ProgressView",
            "style": "IPY_MODEL_cc7e149d69804aceb9e880433d3a7912",
            "_dom_classes": [],
            "description": "100%",
            "_model_name": "FloatProgressModel",
            "bar_style": "success",
            "max": 553433881,
            "_view_module": "@jupyter-widgets/controls",
            "_model_module_version": "1.5.0",
            "value": 553433881,
            "_view_count": null,
            "_view_module_version": "1.5.0",
            "orientation": "horizontal",
            "min": 0,
            "description_tooltip": null,
            "_model_module": "@jupyter-widgets/controls",
            "layout": "IPY_MODEL_2acea1b7510f45a7bc59eba664ed0804"
          }
        },
        "a07da1969e94444ba4a0e95f872031bd": {
          "model_module": "@jupyter-widgets/controls",
          "model_name": "HTMLModel",
          "state": {
            "_view_name": "HTMLView",
            "style": "IPY_MODEL_dcad068910ca41098e0bf316431a8fe4",
            "_dom_classes": [],
            "description": "",
            "_model_name": "HTMLModel",
            "placeholder": "​",
            "_view_module": "@jupyter-widgets/controls",
            "_model_module_version": "1.5.0",
            "value": " 528M/528M [00:20&lt;00:00, 27.5MB/s]",
            "_view_count": null,
            "_view_module_version": "1.5.0",
            "description_tooltip": null,
            "_model_module": "@jupyter-widgets/controls",
            "layout": "IPY_MODEL_6af068c013ce4ab9b36d46c4fff212dd"
          }
        },
        "cc7e149d69804aceb9e880433d3a7912": {
          "model_module": "@jupyter-widgets/controls",
          "model_name": "ProgressStyleModel",
          "state": {
            "_view_name": "StyleView",
            "_model_name": "ProgressStyleModel",
            "description_width": "initial",
            "_view_module": "@jupyter-widgets/base",
            "_model_module_version": "1.5.0",
            "_view_count": null,
            "_view_module_version": "1.2.0",
            "bar_color": null,
            "_model_module": "@jupyter-widgets/controls"
          }
        },
        "2acea1b7510f45a7bc59eba664ed0804": {
          "model_module": "@jupyter-widgets/base",
          "model_name": "LayoutModel",
          "state": {
            "_view_name": "LayoutView",
            "grid_template_rows": null,
            "right": null,
            "justify_content": null,
            "_view_module": "@jupyter-widgets/base",
            "overflow": null,
            "_model_module_version": "1.2.0",
            "_view_count": null,
            "flex_flow": null,
            "width": null,
            "min_width": null,
            "border": null,
            "align_items": null,
            "bottom": null,
            "_model_module": "@jupyter-widgets/base",
            "top": null,
            "grid_column": null,
            "overflow_y": null,
            "overflow_x": null,
            "grid_auto_flow": null,
            "grid_area": null,
            "grid_template_columns": null,
            "flex": null,
            "_model_name": "LayoutModel",
            "justify_items": null,
            "grid_row": null,
            "max_height": null,
            "align_content": null,
            "visibility": null,
            "align_self": null,
            "height": null,
            "min_height": null,
            "padding": null,
            "grid_auto_rows": null,
            "grid_gap": null,
            "max_width": null,
            "order": null,
            "_view_module_version": "1.2.0",
            "grid_template_areas": null,
            "object_position": null,
            "object_fit": null,
            "grid_auto_columns": null,
            "margin": null,
            "display": null,
            "left": null
          }
        },
        "dcad068910ca41098e0bf316431a8fe4": {
          "model_module": "@jupyter-widgets/controls",
          "model_name": "DescriptionStyleModel",
          "state": {
            "_view_name": "StyleView",
            "_model_name": "DescriptionStyleModel",
            "description_width": "",
            "_view_module": "@jupyter-widgets/base",
            "_model_module_version": "1.5.0",
            "_view_count": null,
            "_view_module_version": "1.2.0",
            "_model_module": "@jupyter-widgets/controls"
          }
        },
        "6af068c013ce4ab9b36d46c4fff212dd": {
          "model_module": "@jupyter-widgets/base",
          "model_name": "LayoutModel",
          "state": {
            "_view_name": "LayoutView",
            "grid_template_rows": null,
            "right": null,
            "justify_content": null,
            "_view_module": "@jupyter-widgets/base",
            "overflow": null,
            "_model_module_version": "1.2.0",
            "_view_count": null,
            "flex_flow": null,
            "width": null,
            "min_width": null,
            "border": null,
            "align_items": null,
            "bottom": null,
            "_model_module": "@jupyter-widgets/base",
            "top": null,
            "grid_column": null,
            "overflow_y": null,
            "overflow_x": null,
            "grid_auto_flow": null,
            "grid_area": null,
            "grid_template_columns": null,
            "flex": null,
            "_model_name": "LayoutModel",
            "justify_items": null,
            "grid_row": null,
            "max_height": null,
            "align_content": null,
            "visibility": null,
            "align_self": null,
            "height": null,
            "min_height": null,
            "padding": null,
            "grid_auto_rows": null,
            "grid_gap": null,
            "max_width": null,
            "order": null,
            "_view_module_version": "1.2.0",
            "grid_template_areas": null,
            "object_position": null,
            "object_fit": null,
            "grid_auto_columns": null,
            "margin": null,
            "display": null,
            "left": null
          }
        },
        "0e90af7d35ee4384bfc913449eec7cf5": {
          "model_module": "@jupyter-widgets/controls",
          "model_name": "HBoxModel",
          "state": {
            "_view_name": "HBoxView",
            "_dom_classes": [],
            "_model_name": "HBoxModel",
            "_view_module": "@jupyter-widgets/controls",
            "_model_module_version": "1.5.0",
            "_view_count": null,
            "_view_module_version": "1.5.0",
            "box_style": "",
            "layout": "IPY_MODEL_f4cd1529a1c147608f2a9d4dc9be98f0",
            "_model_module": "@jupyter-widgets/controls",
            "children": [
              "IPY_MODEL_c6482cbc55e944528a846ca6f3a2753f",
              "IPY_MODEL_5189646d8e5943b8a54c6a00644eb44b"
            ]
          }
        },
        "f4cd1529a1c147608f2a9d4dc9be98f0": {
          "model_module": "@jupyter-widgets/base",
          "model_name": "LayoutModel",
          "state": {
            "_view_name": "LayoutView",
            "grid_template_rows": null,
            "right": null,
            "justify_content": null,
            "_view_module": "@jupyter-widgets/base",
            "overflow": null,
            "_model_module_version": "1.2.0",
            "_view_count": null,
            "flex_flow": null,
            "width": null,
            "min_width": null,
            "border": null,
            "align_items": null,
            "bottom": null,
            "_model_module": "@jupyter-widgets/base",
            "top": null,
            "grid_column": null,
            "overflow_y": null,
            "overflow_x": null,
            "grid_auto_flow": null,
            "grid_area": null,
            "grid_template_columns": null,
            "flex": null,
            "_model_name": "LayoutModel",
            "justify_items": null,
            "grid_row": null,
            "max_height": null,
            "align_content": null,
            "visibility": null,
            "align_self": null,
            "height": null,
            "min_height": null,
            "padding": null,
            "grid_auto_rows": null,
            "grid_gap": null,
            "max_width": null,
            "order": null,
            "_view_module_version": "1.2.0",
            "grid_template_areas": null,
            "object_position": null,
            "object_fit": null,
            "grid_auto_columns": null,
            "margin": null,
            "display": null,
            "left": null
          }
        },
        "c6482cbc55e944528a846ca6f3a2753f": {
          "model_module": "@jupyter-widgets/controls",
          "model_name": "FloatProgressModel",
          "state": {
            "_view_name": "ProgressView",
            "style": "IPY_MODEL_b29525e6d9724b7eafc5815c4c993018",
            "_dom_classes": [],
            "description": "100%",
            "_model_name": "FloatProgressModel",
            "bar_style": "success",
            "max": 46827520,
            "_view_module": "@jupyter-widgets/controls",
            "_model_module_version": "1.5.0",
            "value": 46827520,
            "_view_count": null,
            "_view_module_version": "1.5.0",
            "orientation": "horizontal",
            "min": 0,
            "description_tooltip": null,
            "_model_module": "@jupyter-widgets/controls",
            "layout": "IPY_MODEL_0af582b1d8ff4137a35eb287a80f7223"
          }
        },
        "5189646d8e5943b8a54c6a00644eb44b": {
          "model_module": "@jupyter-widgets/controls",
          "model_name": "HTMLModel",
          "state": {
            "_view_name": "HTMLView",
            "style": "IPY_MODEL_a27389bd576c44b7ade102d34e223212",
            "_dom_classes": [],
            "description": "",
            "_model_name": "HTMLModel",
            "placeholder": "​",
            "_view_module": "@jupyter-widgets/controls",
            "_model_module_version": "1.5.0",
            "value": " 44.7M/44.7M [00:02&lt;00:00, 21.9MB/s]",
            "_view_count": null,
            "_view_module_version": "1.5.0",
            "description_tooltip": null,
            "_model_module": "@jupyter-widgets/controls",
            "layout": "IPY_MODEL_4ec364889fa14969b76627a3752ab917"
          }
        },
        "b29525e6d9724b7eafc5815c4c993018": {
          "model_module": "@jupyter-widgets/controls",
          "model_name": "ProgressStyleModel",
          "state": {
            "_view_name": "StyleView",
            "_model_name": "ProgressStyleModel",
            "description_width": "initial",
            "_view_module": "@jupyter-widgets/base",
            "_model_module_version": "1.5.0",
            "_view_count": null,
            "_view_module_version": "1.2.0",
            "bar_color": null,
            "_model_module": "@jupyter-widgets/controls"
          }
        },
        "0af582b1d8ff4137a35eb287a80f7223": {
          "model_module": "@jupyter-widgets/base",
          "model_name": "LayoutModel",
          "state": {
            "_view_name": "LayoutView",
            "grid_template_rows": null,
            "right": null,
            "justify_content": null,
            "_view_module": "@jupyter-widgets/base",
            "overflow": null,
            "_model_module_version": "1.2.0",
            "_view_count": null,
            "flex_flow": null,
            "width": null,
            "min_width": null,
            "border": null,
            "align_items": null,
            "bottom": null,
            "_model_module": "@jupyter-widgets/base",
            "top": null,
            "grid_column": null,
            "overflow_y": null,
            "overflow_x": null,
            "grid_auto_flow": null,
            "grid_area": null,
            "grid_template_columns": null,
            "flex": null,
            "_model_name": "LayoutModel",
            "justify_items": null,
            "grid_row": null,
            "max_height": null,
            "align_content": null,
            "visibility": null,
            "align_self": null,
            "height": null,
            "min_height": null,
            "padding": null,
            "grid_auto_rows": null,
            "grid_gap": null,
            "max_width": null,
            "order": null,
            "_view_module_version": "1.2.0",
            "grid_template_areas": null,
            "object_position": null,
            "object_fit": null,
            "grid_auto_columns": null,
            "margin": null,
            "display": null,
            "left": null
          }
        },
        "a27389bd576c44b7ade102d34e223212": {
          "model_module": "@jupyter-widgets/controls",
          "model_name": "DescriptionStyleModel",
          "state": {
            "_view_name": "StyleView",
            "_model_name": "DescriptionStyleModel",
            "description_width": "",
            "_view_module": "@jupyter-widgets/base",
            "_model_module_version": "1.5.0",
            "_view_count": null,
            "_view_module_version": "1.2.0",
            "_model_module": "@jupyter-widgets/controls"
          }
        },
        "4ec364889fa14969b76627a3752ab917": {
          "model_module": "@jupyter-widgets/base",
          "model_name": "LayoutModel",
          "state": {
            "_view_name": "LayoutView",
            "grid_template_rows": null,
            "right": null,
            "justify_content": null,
            "_view_module": "@jupyter-widgets/base",
            "overflow": null,
            "_model_module_version": "1.2.0",
            "_view_count": null,
            "flex_flow": null,
            "width": null,
            "min_width": null,
            "border": null,
            "align_items": null,
            "bottom": null,
            "_model_module": "@jupyter-widgets/base",
            "top": null,
            "grid_column": null,
            "overflow_y": null,
            "overflow_x": null,
            "grid_auto_flow": null,
            "grid_area": null,
            "grid_template_columns": null,
            "flex": null,
            "_model_name": "LayoutModel",
            "justify_items": null,
            "grid_row": null,
            "max_height": null,
            "align_content": null,
            "visibility": null,
            "align_self": null,
            "height": null,
            "min_height": null,
            "padding": null,
            "grid_auto_rows": null,
            "grid_gap": null,
            "max_width": null,
            "order": null,
            "_view_module_version": "1.2.0",
            "grid_template_areas": null,
            "object_position": null,
            "object_fit": null,
            "grid_auto_columns": null,
            "margin": null,
            "display": null,
            "left": null
          }
        }
      }
    }
  },
  "cells": [
    {
      "cell_type": "markdown",
      "metadata": {
        "id": "uKd1Cx8FWvSu"
      },
      "source": [
        "# Pull git"
      ]
    },
    {
      "cell_type": "code",
      "metadata": {
        "id": "okGUSX_xSEhw"
      },
      "source": [
        "%rm -rf /content/vinbrain-internship\r\n",
        "!git clone -b w3-task1 \"https://github.com/huyentls1114/vinbrain-internship.git\"\r\n",
        "%cd /content/vinbrain-internship\r\n",
        "!git pull \r\n",
        "%cd classifier/"
      ],
      "execution_count": null,
      "outputs": []
    },
    {
      "cell_type": "code",
      "metadata": {
        "id": "jKyhjNu1syIQ"
      },
      "source": [
        "!unzip '/content/drive/MyDrive/vinbrain_internship/data/MenWoman.zip' -d '/content/data'"
      ],
      "execution_count": null,
      "outputs": []
    },
    {
      "cell_type": "markdown",
      "metadata": {
        "id": "rRolYaOoW0eH"
      },
      "source": [
        "# data"
      ]
    },
    {
      "cell_type": "code",
      "metadata": {
        "id": "e9m9Mht6TGBl"
      },
      "source": [
        "import config.configs_colabs as configs"
      ],
      "execution_count": 3,
      "outputs": []
    },
    {
      "cell_type": "code",
      "metadata": {
        "colab": {
          "base_uri": "https://localhost:8080/",
          "height": 35
        },
        "id": "0PfdomxGv0R8",
        "outputId": "54df62dd-df48-4418-cd67-de3ca925405d"
      },
      "source": [
        "configs.output_folder"
      ],
      "execution_count": 4,
      "outputs": [
        {
          "output_type": "execute_result",
          "data": {
            "application/vnd.google.colaboratory.intrinsic+json": {
              "type": "string"
            },
            "text/plain": [
              "'/content/drive/MyDrive/vinbrain_internship/model/menWoman_vgg16_adam_1e-4'"
            ]
          },
          "metadata": {
            "tags": []
          },
          "execution_count": 4
        }
      ]
    },
    {
      "cell_type": "code",
      "metadata": {
        "colab": {
          "base_uri": "https://localhost:8080/",
          "height": 325
        },
        "id": "cyCxieSUUc28",
        "outputId": "187c92cf-d493-43c5-9600-05f97723a2ff"
      },
      "source": [
        "from data.data import CIFARData\r\n",
        "data = CIFARData(configs)\r\n",
        "data.show_batch(\"train\")"
      ],
      "execution_count": 5,
      "outputs": [
        {
          "output_type": "stream",
          "text": [
            "Clipping input data to the valid range for imshow with RGB data ([0..1] for floats or [0..255] for integers).\n"
          ],
          "name": "stderr"
        },
        {
          "output_type": "stream",
          "text": [
            "class woman woman woman woman men men woman men men men men woman woman men woman men woman men woman woman woman woman woman men woman woman woman woman men woman woman men woman woman men men men men woman men men men woman woman men men men woman woman men woman woman men woman men woman men woman men woman men men men woman\n"
          ],
          "name": "stdout"
        },
        {
          "output_type": "display_data",
          "data": {
            "image/png": "[encoded data removed]",
            "text/plain": [
              "<Figure size 432x288 with 1 Axes>"
            ]
          },
          "metadata": {
            "tags": [],
            "needs_background": "light"
          }
        }
      ]
    },
    {
      "cell_type": "markdown",
      "metadata": {
        "id": "uLCXWJCLbMFv"
      },
      "source": [
        "# Train\r\n"
      ]
    },
    {
      "cell_type": "code",
      "metadata": {
        "id": "jqgwx4tAbOw7"
      },
      "source": [
        "from train.train import Trainer\r\n",
        "trainer = Trainer(configs, data)\r\n",
        "trainer.train()"
      ],
      "execution_count": null,
      "outputs": []
    },
    {
      "cell_type": "markdown",
      "metadata": {
        "id": "gtBbPuFWbSv5"
      },
      "source": [
        "# Test"
      ]
    },
    {
      "cell_type": "code",
      "metadata": {
        "id": "Zl20ch8wbVs8",
        "colab": {
          "base_uri": "https://localhost:8080/",
          "height": 124,
          "referenced_widgets": [
            "d0099da002964801a03a33fad157114a",
            "acb6863c6fa841dcb8af4cfb29e93961",
            "b61451e562fe45bdb5126be8116228b2",
            "a07da1969e94444ba4a0e95f872031bd",
            "cc7e149d69804aceb9e880433d3a7912",
            "2acea1b7510f45a7bc59eba664ed0804",
            "dcad068910ca41098e0bf316431a8fe4",
            "6af068c013ce4ab9b36d46c4fff212dd"
          ]
        },
        "outputId": "2688fe13-daee-4c1f-e235-49b55512bee6"
      },
      "source": [
        "from train.train import Trainer\r\n",
        "trainer = Trainer(configs, data)\r\n",
        "trainer.load_checkpoint(\"checkpoint_12\")\r\n",
        "trainer.evaluate(\"test\")"
      ],
      "execution_count": 6,
      "outputs": [
        {
          "output_type": "stream",
          "text": [
            "Downloading: \"https://download.pytorch.org/models/vgg16-397923af.pth\" to /root/.cache/torch/hub/checkpoints/vgg16-397923af.pth\n"
          ],
          "name": "stderr"
        },
        {
          "output_type": "display_data",
          "data": {
            "application/vnd.jupyter.widget-view+json": {
              "model_id": "d0099da002964801a03a33fad157114a",
              "version_minor": 0,
              "version_major": 2
            },
            "text/plain": [
              "HBox(children=(FloatProgress(value=0.0, max=553433881.0), HTML(value='')))"
            ]
          },
          "metadata": {
            "tags": []
          }
        },
        {
          "output_type": "stream",
          "text": [
            "\n"
          ],
          "name": "stdout"
        },
        {
          "output_type": "execute_result",
          "data": {
            "text/plain": [
              "(tensor(0.3203, device='cuda:0'), tensor(0.9339, device='cuda:0'))"
            ]
          },
          "metadata": {
            "tags": []
          },
          "execution_count": 6
        }
      ]
    },
    {
      "cell_type": "code",
      "metadata": {
        "id": "gGO9WZlKcMDV",
        "colab": {
          "base_uri": "https://localhost:8080/"
        },
        "outputId": "d5903060-5593-410d-f574-1a91054b9b1d"
      },
      "source": [
        "from utils.metric import Precision, Recall, F1_Score, Fbeta_Score\r\n",
        "trainer.evaluate(\"test\", Precision(2))"
      ],
      "execution_count": 11,
      "outputs": [
        {
          "output_type": "execute_result",
          "data": {
            "text/plain": [
              "(tensor(0.3203, device='cuda:0'), tensor([0.9306, 0.9365], device='cuda:0'))"
            ]
          },
          "metadata": {
            "tags": []
          },
          "execution_count": 11
        }
      ]
    },
    {
      "cell_type": "markdown",
      "metadata": {
        "id": "bu7TqZj7souJ"
      },
      "source": [
        "# Test model"
      ]
    },
    {
      "cell_type": "code",
      "metadata": {
        "colab": {
          "base_uri": "https://localhost:8080/",
          "height": 35
        },
        "id": "H6Awi1fSsrs5",
        "outputId": "2dc96809-54e7-4548-dbed-553b06b12be9"
      },
      "source": [
        "from train.train import Trainer\r\n",
        "trainer = Trainer(configs, data)\r\n",
        "# trainer.train()\r\n",
        "trainer.output_folder"
      ],
      "execution_count": null,
      "outputs": [
        {
          "output_type": "execute_result",
          "data": {
            "application/vnd.google.colaboratory.intrinsic+json": {
              "type": "string"
            },
            "text/plain": [
              "'/content/drive/MyDrive/vinbrain_internship/model/menWoman_densenet121_adam_1e-4'"
            ]
          },
          "metadata": {
            "tags": []
          },
          "execution_count": 9
        }
      ]
    },
    {
      "cell_type": "code",
      "metadata": {
        "id": "go3rJrSchV8J"
      },
      "source": [
        "trainer.train()"
      ],
      "execution_count": null,
      "outputs": []
    },
    {
      "cell_type": "code",
      "metadata": {
        "id": "b9qlf6rfpMVr",
        "colab": {
          "base_uri": "https://localhost:8080/"
        },
        "outputId": "d72c265b-c25a-4b8f-bed2-612e63ae2f0d"
      },
      "source": [
        "trainer.load_checkpoint(\"checkpoint_12\")\r\n",
        "trainer.evaluate(\"test\")"
      ],
      "execution_count": null,
      "outputs": [
        {
          "output_type": "execute_result",
          "data": {
            "text/plain": [
              "(tensor(0.2037, device='cuda:0'), tensor(0.9550, device='cuda:0'))"
            ]
          },
          "metadata": {
            "tags": []
          },
          "execution_count": 13
        }
      ]
    },
    {
      "cell_type": "code",
      "metadata": {
        "id": "8sWx-Taeo-do"
      },
      "source": [
        "from torchvision.models import densenet121\r\n",
        "from model.CNN import TransferNet\r\n",
        "configs.output_folder = '/content/drive/MyDrive/vinbrain_internship/model/menWoman_densenet121_adam_1e-4'\r\n",
        "configs.net = {\r\n",
        "    \"class\": TransferNet,\r\n",
        "    \"net_args\":{\r\n",
        "        \"model_base\": densenet121,\r\n",
        "        \"fc_channels\":[1024*7*7, 1024],\r\n",
        "        \"pretrain\": True,\r\n",
        "        \"num_classes\":2\r\n",
        "    }\r\n",
        "}\r\n",
        "from train.train import Trainer\r\n",
        "trainer = Trainer(configs, data)\r\n"
      ],
      "execution_count": null,
      "outputs": []
    },
    {
      "cell_type": "code",
      "metadata": {
        "id": "lTZf-TsQ3Bvf",
        "colab": {
          "base_uri": "https://localhost:8080/"
        },
        "outputId": "282f10ef-caf3-4fb0-bb8d-9c92c95dedb7"
      },
      "source": [
        "import glob\r\n",
        "from skimage import io\r\n",
        "list_img_name = glob.glob(\"/content/data/men/*12.jpg\")\r\n",
        "list_imgs = []\r\n",
        "for img_name in list_img_name:\r\n",
        "    img = io.imread(img_name)\r\n",
        "    list_imgs.append(img)\r\n",
        "trainer.get_prediction(list_imgs)"
      ],
      "execution_count": null,
      "outputs": [
        {
          "output_type": "execute_result",
          "data": {
            "text/plain": [
              "tensor([[  2.9795,  -3.1904],\n",
              "        [  3.3733,  -3.4439],\n",
              "        [ 13.6825, -12.8188],\n",
              "        [  5.3073,  -5.2218],\n",
              "        [  9.4152,  -7.5999],\n",
              "        [  7.9756,  -7.7390],\n",
              "        [  1.0291,  -0.5943],\n",
              "        [ -3.5248,   3.4715],\n",
              "        [  9.3290,  -8.7865],\n",
              "        [  4.0737,  -3.2520],\n",
              "        [  7.1331,  -6.4996],\n",
              "        [  6.3099,  -5.8306],\n",
              "        [  1.7863,  -1.6571],\n",
              "        [  2.6199,  -2.4733]], device='cuda:0')"
            ]
          },
          "metadata": {
            "tags": []
          },
          "execution_count": 14
        }
      ]
    },
    {
      "cell_type": "code",
      "metadata": {
        "colab": {
          "base_uri": "https://localhost:8080/",
          "height": 340
        },
        "id": "6oZ-1Bf1iHrQ",
        "outputId": "552f843e-6bef-4d4b-8845-7bced19c5988"
      },
      "source": [
        "from utils.metric import Precision, Recall, F1_Score, Fbeta_Score\r\n",
        "trainer.evaluate(\"test\", Precision())"
      ],
      "execution_count": null,
      "outputs": [
        {
          "output_type": "error",
          "ename": "RuntimeError",
          "evalue": "ignored",
          "traceback": [
            "\u001b[0;31m---------------------------------------------------------------------------\u001b[0m",
            "\u001b[0;31mRuntimeError\u001b[0m                              Traceback (most recent call last)",
            "\u001b[0;32m<ipython-input-15-e6d24e995168>\u001b[0m in \u001b[0;36m<module>\u001b[0;34m()\u001b[0m\n\u001b[1;32m      1\u001b[0m \u001b[0;32mfrom\u001b[0m \u001b[0mutils\u001b[0m\u001b[0;34m.\u001b[0m\u001b[0mmetric\u001b[0m \u001b[0;32mimport\u001b[0m \u001b[0mPrecision\u001b[0m\u001b[0;34m,\u001b[0m \u001b[0mRecall\u001b[0m\u001b[0;34m,\u001b[0m \u001b[0mF1_Score\u001b[0m\u001b[0;34m,\u001b[0m \u001b[0mFbeta_Score\u001b[0m\u001b[0;34m\u001b[0m\u001b[0;34m\u001b[0m\u001b[0m\n\u001b[0;32m----> 2\u001b[0;31m \u001b[0mtrainer\u001b[0m\u001b[0;34m.\u001b[0m\u001b[0mevaluate\u001b[0m\u001b[0;34m(\u001b[0m\u001b[0;34m\"test\"\u001b[0m\u001b[0;34m,\u001b[0m \u001b[0mPrecision\u001b[0m\u001b[0;34m(\u001b[0m\u001b[0;34m)\u001b[0m\u001b[0;34m)\u001b[0m\u001b[0;34m\u001b[0m\u001b[0;34m\u001b[0m\u001b[0m\n\u001b[0m",
            "\u001b[0;32m/content/vinbrain-internship/classifier/train/train.py\u001b[0m in \u001b[0;36mevaluate\u001b[0;34m(self, mode, metric)\u001b[0m\n\u001b[1;32m    180\u001b[0m             \u001b[0moutput_tensor\u001b[0m \u001b[0;34m=\u001b[0m \u001b[0mtorch\u001b[0m\u001b[0;34m.\u001b[0m\u001b[0mcat\u001b[0m\u001b[0;34m(\u001b[0m\u001b[0moutput_list\u001b[0m\u001b[0;34m)\u001b[0m\u001b[0;34m\u001b[0m\u001b[0;34m\u001b[0m\u001b[0m\n\u001b[1;32m    181\u001b[0m             \u001b[0mlabel_tensor\u001b[0m \u001b[0;34m=\u001b[0m  \u001b[0mtorch\u001b[0m\u001b[0;34m.\u001b[0m\u001b[0mcat\u001b[0m\u001b[0;34m(\u001b[0m\u001b[0mlabel_list\u001b[0m\u001b[0;34m)\u001b[0m\u001b[0;34m\u001b[0m\u001b[0;34m\u001b[0m\u001b[0m\n\u001b[0;32m--> 182\u001b[0;31m             \u001b[0mmetric_result\u001b[0m \u001b[0;34m=\u001b[0m \u001b[0mmetric\u001b[0m\u001b[0;34m(\u001b[0m\u001b[0moutput_tensor\u001b[0m\u001b[0;34m,\u001b[0m \u001b[0mlabel_tensor\u001b[0m\u001b[0;34m)\u001b[0m\u001b[0;34m\u001b[0m\u001b[0;34m\u001b[0m\u001b[0m\n\u001b[0m\u001b[1;32m    183\u001b[0m             \u001b[0;32mreturn\u001b[0m \u001b[0mloss\u001b[0m\u001b[0;34m/\u001b[0m\u001b[0;34m(\u001b[0m\u001b[0mi\u001b[0m\u001b[0;34m+\u001b[0m\u001b[0;36m1\u001b[0m\u001b[0;34m)\u001b[0m\u001b[0;34m,\u001b[0m \u001b[0mmetric_result\u001b[0m\u001b[0;34m\u001b[0m\u001b[0;34m\u001b[0m\u001b[0m\n\u001b[1;32m    184\u001b[0m \u001b[0;34m\u001b[0m\u001b[0m\n",
            "\u001b[0;32m/content/vinbrain-internship/classifier/utils/metric.py\u001b[0m in \u001b[0;36m__call__\u001b[0;34m(self, y_pred, y_true)\u001b[0m\n\u001b[1;32m     24\u001b[0m \u001b[0;34m\u001b[0m\u001b[0m\n\u001b[1;32m     25\u001b[0m     \u001b[0;32mdef\u001b[0m \u001b[0m__call__\u001b[0m\u001b[0;34m(\u001b[0m\u001b[0mself\u001b[0m\u001b[0;34m,\u001b[0m \u001b[0my_pred\u001b[0m\u001b[0;34m:\u001b[0m \u001b[0mtorch\u001b[0m\u001b[0;34m.\u001b[0m\u001b[0mTensor\u001b[0m\u001b[0;34m,\u001b[0m \u001b[0my_true\u001b[0m\u001b[0;34m:\u001b[0m \u001b[0mtorch\u001b[0m\u001b[0;34m.\u001b[0m\u001b[0mTensor\u001b[0m\u001b[0;34m)\u001b[0m \u001b[0;34m->\u001b[0m \u001b[0mtorch\u001b[0m\u001b[0;34m.\u001b[0m\u001b[0mTensor\u001b[0m\u001b[0;34m:\u001b[0m\u001b[0;34m\u001b[0m\u001b[0;34m\u001b[0m\u001b[0m\n\u001b[0;32m---> 26\u001b[0;31m         \u001b[0mtrue_positive\u001b[0m \u001b[0;34m=\u001b[0m \u001b[0mtorch\u001b[0m\u001b[0;34m.\u001b[0m\u001b[0msum\u001b[0m\u001b[0;34m(\u001b[0m\u001b[0mtorch\u001b[0m\u001b[0;34m.\u001b[0m\u001b[0mround\u001b[0m\u001b[0;34m(\u001b[0m\u001b[0mtorch\u001b[0m\u001b[0;34m.\u001b[0m\u001b[0mclamp\u001b[0m\u001b[0;34m(\u001b[0m\u001b[0my_pred\u001b[0m\u001b[0;34m*\u001b[0m\u001b[0my_true\u001b[0m\u001b[0;34m,\u001b[0m \u001b[0;36m0\u001b[0m\u001b[0;34m,\u001b[0m \u001b[0;36m1\u001b[0m\u001b[0;34m)\u001b[0m\u001b[0;34m)\u001b[0m\u001b[0;34m)\u001b[0m\u001b[0;34m\u001b[0m\u001b[0;34m\u001b[0m\u001b[0m\n\u001b[0m\u001b[1;32m     27\u001b[0m         \u001b[0mnum_positive_predict\u001b[0m \u001b[0;34m=\u001b[0m \u001b[0mtorch\u001b[0m\u001b[0;34m.\u001b[0m\u001b[0msum\u001b[0m\u001b[0;34m(\u001b[0m\u001b[0mtorch\u001b[0m\u001b[0;34m.\u001b[0m\u001b[0mround\u001b[0m\u001b[0;34m(\u001b[0m\u001b[0mtorch\u001b[0m\u001b[0;34m.\u001b[0m\u001b[0mclamp\u001b[0m\u001b[0;34m(\u001b[0m\u001b[0my_pred\u001b[0m\u001b[0;34m,\u001b[0m \u001b[0;36m0\u001b[0m\u001b[0;34m,\u001b[0m \u001b[0;36m1\u001b[0m\u001b[0;34m)\u001b[0m\u001b[0;34m)\u001b[0m\u001b[0;34m)\u001b[0m\u001b[0;34m\u001b[0m\u001b[0;34m\u001b[0m\u001b[0m\n\u001b[1;32m     28\u001b[0m         \u001b[0;32mreturn\u001b[0m \u001b[0mtrue_positive\u001b[0m\u001b[0;34m/\u001b[0m\u001b[0;34m(\u001b[0m\u001b[0mnum_positive_predict\u001b[0m\u001b[0;34m+\u001b[0m\u001b[0mself\u001b[0m\u001b[0;34m.\u001b[0m\u001b[0mepsilon\u001b[0m\u001b[0;34m)\u001b[0m\u001b[0;34m\u001b[0m\u001b[0;34m\u001b[0m\u001b[0m\n",
            "\u001b[0;31mRuntimeError\u001b[0m: The size of tensor a (2) must match the size of tensor b (333) at non-singleton dimension 1"
          ]
        }
      ]
    },
    {
      "cell_type": "markdown",
      "metadata": {
        "id": "oMs3ogWgMPrY"
      },
      "source": [
        "# Test optimization "
      ]
    },
    {
      "cell_type": "code",
      "metadata": {
        "id": "AAVG0JnpMU17"
      },
      "source": [
        "import config.configs_colabs as configs\r\n",
        "from train.train import Trainer"
      ],
      "execution_count": null,
      "outputs": []
    },
    {
      "cell_type": "code",
      "metadata": {
        "colab": {
          "base_uri": "https://localhost:8080/",
          "height": 244
        },
        "id": "WZffimYkMVA6",
        "outputId": "2981e91e-25fb-4c77-d48a-5eef570d1d4a"
      },
      "source": [
        "from torch.optim import RMSprop\r\n",
        "configs.lr = 0.001\r\n",
        "configs.optimizer={\r\n",
        "    \"class\":RMSprop,\r\n",
        "    \"optimizer_args\":{\r\n",
        "    }\r\n",
        "}\r\n",
        "trainer = Trainer(configs, data)\r\n",
        "trainer.train(\"loss_file_RMSProp.txt\")"
      ],
      "execution_count": null,
      "outputs": [
        {
          "output_type": "error",
          "ename": "NameError",
          "evalue": "ignored",
          "traceback": [
            "\u001b[0;31m---------------------------------------------------------------------------\u001b[0m",
            "\u001b[0;31mNameError\u001b[0m                                 Traceback (most recent call last)",
            "\u001b[0;32m<ipython-input-1-358426a1a397>\u001b[0m in \u001b[0;36m<module>\u001b[0;34m()\u001b[0m\n\u001b[1;32m      1\u001b[0m \u001b[0;32mfrom\u001b[0m \u001b[0mtorch\u001b[0m\u001b[0;34m.\u001b[0m\u001b[0moptim\u001b[0m \u001b[0;32mimport\u001b[0m \u001b[0mRMSprop\u001b[0m\u001b[0;34m\u001b[0m\u001b[0;34m\u001b[0m\u001b[0m\n\u001b[0;32m----> 2\u001b[0;31m \u001b[0mconfigs\u001b[0m\u001b[0;34m.\u001b[0m\u001b[0mlr\u001b[0m \u001b[0;34m=\u001b[0m \u001b[0;36m0.001\u001b[0m\u001b[0;34m\u001b[0m\u001b[0;34m\u001b[0m\u001b[0m\n\u001b[0m\u001b[1;32m      3\u001b[0m configs.optimizer={\n\u001b[1;32m      4\u001b[0m     \u001b[0;34m\"class\"\u001b[0m\u001b[0;34m:\u001b[0m\u001b[0mRMSprop\u001b[0m\u001b[0;34m,\u001b[0m\u001b[0;34m\u001b[0m\u001b[0;34m\u001b[0m\u001b[0m\n\u001b[1;32m      5\u001b[0m     \"optimizer_args\":{\n",
            "\u001b[0;31mNameError\u001b[0m: name 'configs' is not defined"
          ]
        }
      ]
    },
    {
      "cell_type": "code",
      "metadata": {
        "id": "VuO6Tt8YMVD0",
        "colab": {
          "base_uri": "https://localhost:8080/"
        },
        "outputId": "51ccfdc5-e9c6-4057-ee32-6422b486d8fb"
      },
      "source": [
        "from torch.optim import Adam\r\n",
        "configs.lr = 0.001\r\n",
        "configs.optimizer={\r\n",
        "    \"class\":Adam,\r\n",
        "    \"optimizer_args\":{\r\n",
        "    }\r\n",
        "}\r\n",
        "trainer = Trainer(configs, data)\r\n",
        "trainer.train(\"file_loss_Adam.txt\")"
      ],
      "execution_count": null,
      "outputs": [
        {
          "output_type": "stream",
          "text": [
            "Epoch 0 step 0\n",
            "\tLoss average 0.001150\n",
            "\tLoss valid average 2.305992, acc valid 0.101400\n",
            "learning_rate  0.001\n",
            "Epoch 0 step 1999\n",
            "\tLoss average 1.619367\n",
            "\tLoss valid average 1.429725, acc valid 0.480333\n",
            "learning_rate  0.001\n",
            "Epoch 1 step 0\n",
            "\tLoss average 0.000683\n",
            "\tLoss valid average 1.394577, acc valid 0.496867\n",
            "learning_rate  0.001\n",
            "Epoch 1 step 1999\n",
            "\tLoss average 1.339609\n",
            "\tLoss valid average 1.347215, acc valid 0.509333\n",
            "learning_rate  0.001\n",
            "Epoch 2 step 0\n",
            "\tLoss average 0.000618\n",
            "\tLoss valid average 1.312550, acc valid 0.528133\n",
            "learning_rate  0.001\n",
            "Epoch 2 step 1999\n",
            "\tLoss average 1.226920\n",
            "\tLoss valid average 1.256063, acc valid 0.548800\n",
            "learning_rate  0.001\n",
            "Epoch 3 step 0\n",
            "\tLoss average 0.000639\n",
            "\tLoss valid average 1.258436, acc valid 0.550000\n",
            "learning_rate  0.001\n",
            "Epoch 3 step 1999\n",
            "\tLoss average 1.144583\n",
            "\tLoss valid average 1.229436, acc valid 0.560533\n",
            "learning_rate  0.001\n",
            "Epoch 4 step 0\n",
            "\tLoss average 0.000419\n",
            "\tLoss valid average 1.201853, acc valid 0.575333\n",
            "learning_rate  0.001\n",
            "Epoch 4 step 1999\n",
            "\tLoss average 1.085987\n",
            "\tLoss valid average 1.188966, acc valid 0.579733\n",
            "learning_rate  0.001\n",
            "Epoch 5 step 0\n",
            "\tLoss average 0.000371\n",
            "\tLoss valid average 1.177778, acc valid 0.585400\n",
            "learning_rate  0.001\n",
            "Epoch 5 step 1999\n",
            "\tLoss average 1.027125\n",
            "\tLoss valid average 1.178247, acc valid 0.590733\n",
            "learning_rate  0.001\n",
            "Epoch 6 step 0\n",
            "\tLoss average 0.000494\n",
            "\tLoss valid average 1.152784, acc valid 0.596333\n",
            "learning_rate  0.001\n",
            "Epoch 6 step 1999\n",
            "\tLoss average 0.972160\n",
            "\tLoss valid average 1.184410, acc valid 0.589067\n",
            "learning_rate  0.001\n",
            "Epoch 7 step 0\n",
            "\tLoss average 0.000520\n",
            "\tLoss valid average 1.139860, acc valid 0.598333\n",
            "learning_rate  0.001\n",
            "Epoch 7 step 1999\n",
            "\tLoss average 0.926778\n",
            "\tLoss valid average 1.207885, acc valid 0.582800\n",
            "learning_rate  0.001\n",
            "Epoch 8 step 0\n",
            "\tLoss average 0.000319\n",
            "\tLoss valid average 1.231301, acc valid 0.572400\n",
            "learning_rate  0.001\n",
            "Epoch 8 step 1999\n",
            "\tLoss average 0.886589\n",
            "\tLoss valid average 1.180612, acc valid 0.593867\n",
            "learning_rate  0.001\n",
            "Epoch 9 step 0\n",
            "\tLoss average 0.000264\n",
            "\tLoss valid average 1.215898, acc valid 0.590867\n",
            "learning_rate  0.001\n",
            "Epoch 9 step 1999\n",
            "\tLoss average 0.848755\n",
            "\tLoss valid average 1.204019, acc valid 0.595867\n",
            "learning_rate  0.001\n"
          ],
          "name": "stdout"
        }
      ]
    },
    {
      "cell_type": "code",
      "metadata": {
        "colab": {
          "base_uri": "https://localhost:8080/"
        },
        "id": "4K9erC7BQh_k",
        "outputId": "fe181515-4edf-427a-8405-6acdee5bcbac"
      },
      "source": [
        "from model.optimizer import RAdam\r\n",
        "configs.lr = 0.001\r\n",
        "configs.optimizer={\r\n",
        "    \"class\":RAdam,\r\n",
        "    \"optimizer_args\":{\r\n",
        "    }\r\n",
        "}\r\n",
        "trainer = Trainer(configs, data)\r\n",
        "trainer.train(\"file_loss_RAdam.txt\")"
      ],
      "execution_count": null,
      "outputs": [
        {
          "output_type": "stream",
          "text": [
            "Epoch 0 step 0\n",
            "\tLoss average 0.001159\n"
          ],
          "name": "stdout"
        },
        {
          "output_type": "stream",
          "text": [
            "/content/vinbrain-internship/classifier/model/optimizer.py:60: UserWarning: This overload of addcmul_ is deprecated:\n",
            "\taddcmul_(Number value, Tensor tensor1, Tensor tensor2)\n",
            "Consider using one of the following signatures instead:\n",
            "\taddcmul_(Tensor tensor1, Tensor tensor2, *, Number value) (Triggered internally at  /pytorch/torch/csrc/utils/python_arg_parser.cpp:882.)\n",
            "  exp_avg_sq.mul_(beta2).addcmul_(1 - beta2, grad, grad)\n"
          ],
          "name": "stderr"
        },
        {
          "output_type": "stream",
          "text": [
            "\tLoss valid average 2.305863, acc valid 0.073667\n",
            "learning_rate  0.001\n",
            "Epoch 0 step 1999\n",
            "\tLoss average 1.715587\n",
            "\tLoss valid average 1.488591, acc valid 0.465733\n",
            "learning_rate  0.001\n",
            "Epoch 1 step 0\n",
            "\tLoss average 0.000587\n",
            "\tLoss valid average 1.493251, acc valid 0.452000\n",
            "learning_rate  0.001\n",
            "Epoch 1 step 1999\n",
            "\tLoss average 1.366262\n",
            "\tLoss valid average 1.334285, acc valid 0.528333\n",
            "learning_rate  0.001\n",
            "Epoch 2 step 0\n",
            "\tLoss average 0.000527\n",
            "\tLoss valid average 1.263068, acc valid 0.550533\n",
            "learning_rate  0.001\n",
            "Epoch 2 step 1999\n",
            "\tLoss average 1.205972\n",
            "\tLoss valid average 1.226185, acc valid 0.563467\n",
            "learning_rate  0.001\n",
            "Epoch 3 step 0\n",
            "\tLoss average 0.000284\n",
            "\tLoss valid average 1.213522, acc valid 0.571067\n",
            "learning_rate  0.001\n",
            "Epoch 3 step 1999\n",
            "\tLoss average 1.098516\n",
            "\tLoss valid average 1.164884, acc valid 0.590467\n",
            "learning_rate  0.001\n",
            "Epoch 4 step 0\n",
            "\tLoss average 0.000803\n",
            "\tLoss valid average 1.174908, acc valid 0.579667\n",
            "learning_rate  0.001\n",
            "Epoch 4 step 1999\n",
            "\tLoss average 1.023373\n",
            "\tLoss valid average 1.169033, acc valid 0.593867\n",
            "learning_rate  0.001\n",
            "Epoch 5 step 0\n",
            "\tLoss average 0.000601\n",
            "\tLoss valid average 1.154057, acc valid 0.595267\n",
            "learning_rate  0.001\n",
            "Epoch 5 step 1999\n",
            "\tLoss average 0.961991\n",
            "\tLoss valid average 1.150240, acc valid 0.600733\n",
            "learning_rate  0.001\n",
            "Epoch 6 step 0\n",
            "\tLoss average 0.000446\n",
            "\tLoss valid average 1.134526, acc valid 0.605133\n",
            "learning_rate  0.001\n",
            "Epoch 6 step 1999\n",
            "\tLoss average 0.892297\n",
            "\tLoss valid average 1.138375, acc valid 0.611467\n",
            "learning_rate  0.001\n",
            "Epoch 7 step 0\n",
            "\tLoss average 0.000536\n",
            "\tLoss valid average 1.130024, acc valid 0.609600\n",
            "learning_rate  0.001\n",
            "Epoch 7 step 1999\n",
            "\tLoss average 0.843104\n",
            "\tLoss valid average 1.146576, acc valid 0.609000\n",
            "learning_rate  0.001\n",
            "Epoch 8 step 0\n",
            "\tLoss average 0.000295\n",
            "\tLoss valid average 1.160866, acc valid 0.611067\n",
            "learning_rate  0.001\n",
            "Epoch 8 step 1999\n",
            "\tLoss average 0.806673\n",
            "\tLoss valid average 1.175485, acc valid 0.606867\n",
            "learning_rate  0.001\n",
            "Epoch 9 step 0\n",
            "\tLoss average 0.000568\n",
            "\tLoss valid average 1.148941, acc valid 0.619800\n",
            "learning_rate  0.001\n",
            "Epoch 9 step 1999\n",
            "\tLoss average 0.753981\n",
            "\tLoss valid average 1.162892, acc valid 0.619733\n",
            "learning_rate  0.001\n"
          ],
          "name": "stdout"
        }
      ]
    },
    {
      "cell_type": "markdown",
      "metadata": {
        "id": "7qIy7relW5ZN"
      },
      "source": [
        "# test lr scheduler"
      ]
    },
    {
      "cell_type": "code",
      "metadata": {
        "id": "SkL5n_QKVL5O"
      },
      "source": [
        "from train.train import Trainer\r\n",
        "# trainer = Trainer(configs, data)"
      ],
      "execution_count": null,
      "outputs": []
    },
    {
      "cell_type": "code",
      "metadata": {
        "id": "5KYW9ZbBVQE1"
      },
      "source": [
        "trainer.train()"
      ],
      "execution_count": null,
      "outputs": []
    },
    {
      "cell_type": "code",
      "metadata": {
        "id": "18Zgs-bsmf1Z"
      },
      "source": [
        "#MultistepLR\r\n",
        "from torch.optim.lr_scheduler import MultiStepLR\r\n",
        "configs.num_epochs = 20\r\n",
        "configs.lr_schedule ={\r\n",
        "    \"class\": MultiStepLR,\r\n",
        "    \"metric\":None,\r\n",
        "    \"step_type\":\"epoch\",\r\n",
        "    \"schedule_args\":{\r\n",
        "        \"milestones\":[10, 15],\r\n",
        "        \"gamma\":0.1,\r\n",
        "    }\r\n",
        "}\r\n",
        "trainer = Trainer(configs, data)\r\n",
        "trainer.train(loss_file = \"loss_file_multisteplr.txt\")"
      ],
      "execution_count": null,
      "outputs": []
    },
    {
      "cell_type": "code",
      "metadata": {
        "colab": {
          "base_uri": "https://localhost:8080/"
        },
        "id": "YYYikUtYex79",
        "outputId": "6f872423-f0b4-4661-bb2b-d67a7358a395"
      },
      "source": [
        "from torch.optim.lr_scheduler import ReduceLROnPlateau\r\n",
        "configs.num_epochs = 30\r\n",
        "configs.lr_schedule={\r\n",
        "    \"class\":ReduceLROnPlateau,\r\n",
        "    \"metric\":\"val_loss\",\r\n",
        "    \"step_type\":\"epoch\",\r\n",
        "    \"schedule_args\":{\r\n",
        "        \"mode\":\"min\",\r\n",
        "        \"factor\":0.1,\r\n",
        "        \"patience\":4,\r\n",
        "        \"threshold\":1e-2,\r\n",
        "        \"min_lr\":1e-4\r\n",
        "    }\r\n",
        "}\r\n",
        "trainer = Trainer(configs, data)\r\n",
        "trainer.train(\"loss_file_ReduceLROnPlateau.txt\")"
      ],
      "execution_count": null,
      "outputs": [
        {
          "output_type": "stream",
          "text": [
            "Epoch 0 step 0\n",
            "\tLoss average 0.001151\n",
            "\tLoss valid average 2.304968, acc valid 0.098800\n",
            "Epoch 0 step 1999\n",
            "\tLoss average 1.776647\n",
            "\tLoss valid average 1.645739, acc valid 0.401333\n",
            "learning_rate  0.01\n",
            "Epoch 1 step 0\n",
            "\tLoss average 0.000975\n",
            "\tLoss valid average 1.685565, acc valid 0.402800\n",
            "Epoch 1 step 1999\n",
            "\tLoss average 1.521833\n",
            "\tLoss valid average 1.451632, acc valid 0.479200\n",
            "learning_rate  0.01\n",
            "Epoch 2 step 0\n",
            "\tLoss average 0.000669\n",
            "\tLoss valid average 1.547229, acc valid 0.450267\n",
            "Epoch 2 step 1999\n",
            "\tLoss average 1.456243\n",
            "\tLoss valid average 1.459238, acc valid 0.483400\n",
            "learning_rate  0.01\n",
            "Epoch 3 step 0\n",
            "\tLoss average 0.000684\n",
            "\tLoss valid average 1.549178, acc valid 0.447600\n",
            "Epoch 3 step 1999\n",
            "\tLoss average 1.404972\n",
            "\tLoss valid average 1.501563, acc valid 0.483667\n",
            "learning_rate  0.01\n",
            "Epoch 4 step 0\n",
            "\tLoss average 0.000660\n",
            "\tLoss valid average 1.508439, acc valid 0.462067\n",
            "Epoch 4 step 1999\n",
            "\tLoss average 1.364757\n",
            "\tLoss valid average 1.414794, acc valid 0.510733\n",
            "learning_rate  0.01\n",
            "Epoch 5 step 0\n",
            "\tLoss average 0.000542\n",
            "\tLoss valid average 1.521997, acc valid 0.482600\n",
            "Epoch 5 step 1999\n",
            "\tLoss average 1.362304\n",
            "\tLoss valid average 1.526684, acc valid 0.476867\n",
            "learning_rate  0.01\n",
            "Epoch 6 step 0\n",
            "\tLoss average 0.000792\n",
            "\tLoss valid average 1.582726, acc valid 0.464000\n",
            "Epoch 6 step 1999\n",
            "\tLoss average 1.353828\n",
            "\tLoss valid average 1.441915, acc valid 0.508533\n",
            "learning_rate  0.01\n",
            "Epoch 7 step 0\n",
            "\tLoss average 0.000498\n",
            "\tLoss valid average 1.406491, acc valid 0.522400\n",
            "Epoch 7 step 1999\n",
            "\tLoss average 1.341212\n",
            "\tLoss valid average 1.469062, acc valid 0.509067\n",
            "learning_rate  0.01\n",
            "Epoch 8 step 0\n",
            "\tLoss average 0.000725\n",
            "\tLoss valid average 1.497308, acc valid 0.501467\n",
            "Epoch 8 step 1999\n",
            "\tLoss average 1.326066\n",
            "\tLoss valid average 1.465376, acc valid 0.503933\n",
            "learning_rate  0.01\n",
            "Epoch 9 step 0\n",
            "\tLoss average 0.000563\n",
            "\tLoss valid average 1.473619, acc valid 0.505667\n",
            "Epoch 9 step 1999\n",
            "\tLoss average 1.332579\n",
            "\tLoss valid average 1.501023, acc valid 0.487600\n",
            "learning_rate  0.01\n",
            "Epoch 10 step 0\n",
            "\tLoss average 0.000546\n",
            "\tLoss valid average 1.520647, acc valid 0.501267\n",
            "Epoch 10 step 1999\n",
            "\tLoss average 1.334205\n",
            "\tLoss valid average 1.532086, acc valid 0.501133\n",
            "learning_rate  0.01\n",
            "Epoch 11 step 0\n",
            "\tLoss average 0.000569\n",
            "\tLoss valid average 1.481608, acc valid 0.512467\n",
            "Epoch 11 step 1999\n",
            "\tLoss average 1.335102\n",
            "\tLoss valid average 1.541600, acc valid 0.488533\n",
            "learning_rate  0.01\n",
            "Epoch 12 step 0\n",
            "\tLoss average 0.000621\n",
            "\tLoss valid average 1.480202, acc valid 0.502667\n",
            "Epoch 12 step 1999\n",
            "\tLoss average 1.005106\n",
            "\tLoss valid average 1.314218, acc valid 0.568200\n",
            "learning_rate  0.001\n",
            "Epoch 13 step 0\n",
            "\tLoss average 0.000433\n",
            "\tLoss valid average 1.319247, acc valid 0.568867\n",
            "Epoch 13 step 1999\n",
            "\tLoss average 0.901361\n",
            "\tLoss valid average 1.317018, acc valid 0.568733\n",
            "learning_rate  0.001\n",
            "Epoch 14 step 0\n",
            "\tLoss average 0.000295\n",
            "\tLoss valid average 1.323954, acc valid 0.571000\n",
            "Epoch 14 step 1999\n",
            "\tLoss average 0.848366\n",
            "\tLoss valid average 1.346681, acc valid 0.571467\n",
            "learning_rate  0.001\n",
            "Epoch 15 step 0\n",
            "\tLoss average 0.000728\n",
            "\tLoss valid average 1.341389, acc valid 0.574667\n",
            "Epoch 15 step 1999\n",
            "\tLoss average 0.804341\n",
            "\tLoss valid average 1.339807, acc valid 0.577933\n",
            "learning_rate  0.001\n",
            "Epoch 16 step 0\n",
            "\tLoss average 0.000636\n",
            "\tLoss valid average 1.342942, acc valid 0.574267\n",
            "Epoch 16 step 1999\n",
            "\tLoss average 0.764227\n",
            "\tLoss valid average 1.378018, acc valid 0.577067\n",
            "learning_rate  0.001\n",
            "Epoch 17 step 0\n",
            "\tLoss average 0.000288\n",
            "\tLoss valid average 1.363867, acc valid 0.578133\n",
            "Epoch 17 step 1999\n",
            "\tLoss average 0.733652\n",
            "\tLoss valid average 1.396097, acc valid 0.573733\n",
            "learning_rate  0.001\n",
            "Epoch 18 step 0\n",
            "\tLoss average 0.000409\n",
            "\tLoss valid average 1.402998, acc valid 0.574267\n",
            "Epoch 18 step 1999\n",
            "\tLoss average 0.679036\n",
            "\tLoss valid average 1.408498, acc valid 0.575667\n",
            "learning_rate  0.0001\n",
            "Epoch 19 step 0\n",
            "\tLoss average 0.000195\n",
            "\tLoss valid average 1.411631, acc valid 0.576733\n",
            "Epoch 19 step 1999\n",
            "\tLoss average 0.671018\n",
            "\tLoss valid average 1.418553, acc valid 0.576133\n",
            "learning_rate  0.0001\n",
            "Epoch 20 step 0\n",
            "\tLoss average 0.000494\n",
            "\tLoss valid average 1.419637, acc valid 0.576867\n",
            "Epoch 20 step 1999\n",
            "\tLoss average 0.666492\n",
            "\tLoss valid average 1.425489, acc valid 0.576933\n",
            "learning_rate  0.0001\n",
            "Epoch 21 step 0\n",
            "\tLoss average 0.000364\n",
            "\tLoss valid average 1.427264, acc valid 0.577133\n",
            "Epoch 21 step 1999\n",
            "\tLoss average 0.660966\n",
            "\tLoss valid average 1.428350, acc valid 0.577067\n",
            "learning_rate  0.0001\n",
            "Epoch 22 step 0\n",
            "\tLoss average 0.000283\n",
            "\tLoss valid average 1.431124, acc valid 0.576267\n",
            "Epoch 22 step 1999\n",
            "\tLoss average 0.656074\n",
            "\tLoss valid average 1.436191, acc valid 0.576533\n",
            "learning_rate  0.0001\n",
            "Epoch 23 step 0\n",
            "\tLoss average 0.000280\n",
            "\tLoss valid average 1.436493, acc valid 0.576800\n",
            "Epoch 23 step 1999\n",
            "\tLoss average 0.654860\n",
            "\tLoss valid average 1.440444, acc valid 0.576200\n",
            "learning_rate  0.0001\n",
            "Epoch 24 step 0\n",
            "\tLoss average 0.000516\n",
            "\tLoss valid average 1.442391, acc valid 0.576267\n",
            "Epoch 24 step 1999\n",
            "\tLoss average 0.648102\n",
            "\tLoss valid average 1.447028, acc valid 0.577867\n",
            "learning_rate  0.0001\n",
            "Epoch 25 step 0\n",
            "\tLoss average 0.000458\n",
            "\tLoss valid average 1.446577, acc valid 0.576200\n",
            "Epoch 25 step 1999\n",
            "\tLoss average 0.645219\n",
            "\tLoss valid average 1.453621, acc valid 0.576133\n",
            "learning_rate  0.0001\n",
            "Epoch 26 step 0\n",
            "\tLoss average 0.000512\n",
            "\tLoss valid average 1.454044, acc valid 0.577267\n",
            "Epoch 26 step 1999\n",
            "\tLoss average 0.643955\n",
            "\tLoss valid average 1.457603, acc valid 0.576467\n",
            "learning_rate  0.0001\n",
            "Epoch 27 step 0\n",
            "\tLoss average 0.000428\n",
            "\tLoss valid average 1.457569, acc valid 0.575800\n",
            "Epoch 27 step 1999\n",
            "\tLoss average 0.637063\n",
            "\tLoss valid average 1.462942, acc valid 0.575667\n",
            "learning_rate  0.0001\n",
            "Epoch 28 step 0\n",
            "\tLoss average 0.000298\n",
            "\tLoss valid average 1.461358, acc valid 0.575667\n",
            "Epoch 28 step 1999\n",
            "\tLoss average 0.635055\n",
            "\tLoss valid average 1.467097, acc valid 0.575067\n",
            "learning_rate  0.0001\n",
            "Epoch 29 step 0\n",
            "\tLoss average 0.000606\n",
            "\tLoss valid average 1.465069, acc valid 0.576867\n",
            "Epoch 29 step 1999\n",
            "\tLoss average 0.632634\n",
            "\tLoss valid average 1.469463, acc valid 0.575200\n",
            "learning_rate  0.0001\n"
          ],
          "name": "stdout"
        }
      ]
    },
    {
      "cell_type": "code",
      "metadata": {
        "colab": {
          "base_uri": "https://localhost:8080/"
        },
        "id": "nMh1F__pV1dq",
        "outputId": "57d94b43-bc5b-47c9-caf0-463c0d8eaca5"
      },
      "source": [
        "from torch.optim.lr_scheduler import OneCycleLR\r\n",
        "configs.num_epochs = 30\r\n",
        "configs.lr_schedule = {\r\n",
        "    \"class\":OneCycleLR,\r\n",
        "    \"metric\": None,\r\n",
        "    \"step_type\":\"batch\",\r\n",
        "    \"schedule_args\":{\r\n",
        "        \"max_lr\":0.01,\r\n",
        "        \"epochs\":configs.num_epochs,\r\n",
        "        \"steps_per_epoch\":configs.steps_per_epoch+1\r\n",
        "    }    \r\n",
        "}\r\n",
        "trainer = Trainer(configs, data)\r\n",
        "trainer.train(loss_file = \"loss_file_OneCycleLR.txt\")"
      ],
      "execution_count": null,
      "outputs": [
        {
          "output_type": "stream",
          "text": [
            "Epoch 0 step 0\n",
            "\tLoss average 0.028880\n",
            "\tLoss valid average 2.766898, acc valid 0.091200\n",
            "learning_rate  0.0004000009777498405\n",
            "Epoch 0 step 99\n",
            "\tLoss average 1.799347\n",
            "\tLoss valid average 1.401932, acc valid 0.505333\n",
            "learning_rate  0.0004097741797577364\n",
            "Epoch 0 step 198\n",
            "\tLoss average 1.237756\n",
            "\tLoss valid average 1.155766, acc valid 0.599400\n",
            "learning_rate  0.00043866784417429666\n",
            "Epoch 0 step 297\n",
            "\tLoss average 1.071426\n",
            "\tLoss valid average 1.029963, acc valid 0.643600\n",
            "learning_rate  0.0004865666402729396\n",
            "Epoch 0 step 396\n",
            "\tLoss average 0.972987\n",
            "\tLoss valid average 0.973191, acc valid 0.667933\n",
            "learning_rate  0.0005532793772487655\n",
            "Epoch 0 step 495\n",
            "\tLoss average 0.925865\n",
            "\tLoss valid average 0.906894, acc valid 0.692600\n",
            "learning_rate  0.0006385397673676699\n",
            "Epoch 1 step 0\n",
            "\tLoss average 0.006115\n",
            "\tLoss valid average 0.895693, acc valid 0.697733\n",
            "learning_rate  0.0006906408377524136\n",
            "Epoch 1 step 99\n",
            "\tLoss average 0.735922\n",
            "\tLoss valid average 0.861580, acc valid 0.711000\n",
            "learning_rate  0.0008035111154400375\n",
            "Epoch 1 step 198\n",
            "\tLoss average 0.735158\n",
            "\tLoss valid average 0.817348, acc valid 0.726000\n",
            "learning_rate  0.0009339302318676027\n",
            "Epoch 1 step 297\n",
            "\tLoss average 0.746421\n",
            "\tLoss valid average 0.823812, acc valid 0.721400\n",
            "learning_rate  0.0010813776116162018\n",
            "Epoch 1 step 396\n",
            "\tLoss average 0.721795\n",
            "\tLoss valid average 0.788113, acc valid 0.731933\n",
            "learning_rate  0.001245264709972594\n",
            "Epoch 1 step 495\n",
            "\tLoss average 0.705996\n",
            "\tLoss valid average 0.767964, acc valid 0.742067\n",
            "learning_rate  0.0014249373621393387\n",
            "Epoch 2 step 0\n",
            "\tLoss average 0.005149\n",
            "\tLoss valid average 0.785106, acc valid 0.742133\n",
            "learning_rate  0.001525394742240102\n",
            "Epoch 2 step 99\n",
            "\tLoss average 0.544972\n",
            "\tLoss valid average 0.788343, acc valid 0.743067\n",
            "learning_rate  0.0017277427982560819\n",
            "Epoch 2 step 198\n",
            "\tLoss average 0.590765\n",
            "\tLoss valid average 0.762722, acc valid 0.745667\n",
            "learning_rate  0.0019439505689891872\n",
            "Epoch 2 step 297\n",
            "\tLoss average 0.583224\n",
            "\tLoss valid average 0.788731, acc valid 0.749933\n",
            "learning_rate  0.002173155048663087\n",
            "Epoch 2 step 396\n",
            "\tLoss average 0.616919\n",
            "\tLoss valid average 0.753784, acc valid 0.752467\n",
            "learning_rate  0.0024144413543887647\n",
            "Epoch 2 step 495\n",
            "\tLoss average 0.611356\n",
            "\tLoss valid average 0.739675, acc valid 0.756800\n",
            "learning_rate  0.0026668463779722642\n",
            "Epoch 3 step 0\n",
            "\tLoss average 0.004199\n",
            "\tLoss valid average 0.710523, acc valid 0.764067\n",
            "learning_rate  0.0028035385513122436\n",
            "Epoch 3 step 99\n",
            "\tLoss average 0.454879\n",
            "\tLoss valid average 0.766031, acc valid 0.760533\n",
            "learning_rate  0.0030709484065360197\n",
            "Epoch 3 step 198\n",
            "\tLoss average 0.490461\n",
            "\tLoss valid average 0.774058, acc valid 0.755333\n",
            "learning_rate  0.003346856493886328\n",
            "Epoch 3 step 297\n",
            "\tLoss average 0.488902\n",
            "\tLoss valid average 0.779805, acc valid 0.754800\n",
            "learning_rate  0.003630161510332708\n",
            "Epoch 3 step 396\n",
            "\tLoss average 0.507460\n",
            "\tLoss valid average 0.762096, acc valid 0.760867\n",
            "learning_rate  0.0039197326275759465\n",
            "Epoch 3 step 495\n",
            "\tLoss average 0.527337\n",
            "\tLoss valid average 0.740096, acc valid 0.768533\n",
            "learning_rate  0.004214414005814403\n",
            "Epoch 4 step 0\n",
            "\tLoss average 0.004284\n",
            "\tLoss valid average 0.713524, acc valid 0.767533\n",
            "learning_rate  0.004370847247097073\n",
            "Epoch 4 step 99\n",
            "\tLoss average 0.378772\n",
            "\tLoss valid average 0.735670, acc valid 0.772133\n",
            "learning_rate  0.004671052352640916\n",
            "Epoch 4 step 198\n",
            "\tLoss average 0.397916\n",
            "\tLoss valid average 0.753344, acc valid 0.771600\n",
            "learning_rate  0.004973368783200948\n",
            "Epoch 4 step 297\n",
            "\tLoss average 0.430637\n",
            "\tLoss valid average 0.741517, acc valid 0.767933\n",
            "learning_rate  0.0052765898253229505\n",
            "Epoch 4 step 396\n",
            "\tLoss average 0.431209\n",
            "\tLoss valid average 0.728342, acc valid 0.777733\n",
            "learning_rate  0.0055795051547435194\n",
            "Epoch 4 step 495\n",
            "\tLoss average 0.445002\n",
            "\tLoss valid average 0.757252, acc valid 0.770933\n",
            "learning_rate  0.005880905667469123\n",
            "Epoch 5 step 0\n",
            "\tLoss average 0.006047\n",
            "\tLoss valid average 0.743149, acc valid 0.766600\n",
            "learning_rate  0.006038204229488798\n",
            "Epoch 5 step 99\n",
            "\tLoss average 0.322670\n",
            "\tLoss valid average 0.790413, acc valid 0.770133\n",
            "learning_rate  0.006334980854158245\n",
            "Epoch 5 step 198\n",
            "\tLoss average 0.351380\n",
            "\tLoss valid average 0.729316, acc valid 0.782200\n",
            "learning_rate  0.006627227137342582\n",
            "Epoch 5 step 297\n",
            "\tLoss average 0.356460\n",
            "\tLoss valid average 0.781067, acc valid 0.771467\n",
            "learning_rate  0.006913776561161154\n",
            "Epoch 5 step 396\n",
            "\tLoss average 0.376397\n",
            "\tLoss valid average 0.732192, acc valid 0.780667\n",
            "learning_rate  0.007193485347075755\n",
            "Epoch 5 step 495\n",
            "\tLoss average 0.391360\n",
            "\tLoss valid average 0.711874, acc valid 0.783333\n",
            "learning_rate  0.0074652370213485805\n",
            "Epoch 6 step 0\n",
            "\tLoss average 0.002475\n",
            "\tLoss valid average 0.792881, acc valid 0.772733\n",
            "learning_rate  0.007604420744465559\n",
            "Epoch 6 step 99\n",
            "\tLoss average 0.239488\n",
            "\tLoss valid average 0.786428, acc valid 0.785267\n",
            "learning_rate  0.007861958848796587\n",
            "Epoch 6 step 198\n",
            "\tLoss average 0.301773\n",
            "\tLoss valid average 0.794587, acc valid 0.773533\n",
            "learning_rate  0.008108871590981486\n",
            "Epoch 6 step 297\n",
            "\tLoss average 0.333683\n",
            "\tLoss valid average 0.780662, acc valid 0.777467\n",
            "learning_rate  0.00834417340458094\n",
            "Epoch 6 step 396\n",
            "\tLoss average 0.340523\n",
            "\tLoss valid average 0.738683, acc valid 0.780533\n",
            "learning_rate  0.008566925068846189\n",
            "Epoch 6 step 495\n",
            "\tLoss average 0.334167\n",
            "\tLoss valid average 0.749442, acc valid 0.777333\n",
            "learning_rate  0.00877623745767277\n",
            "Epoch 7 step 0\n",
            "\tLoss average 0.001531\n",
            "\tLoss valid average 0.701195, acc valid 0.788133\n",
            "learning_rate  0.00888051197803471\n",
            "Epoch 7 step 99\n",
            "\tLoss average 0.215620\n",
            "\tLoss valid average 0.771716, acc valid 0.789733\n",
            "learning_rate  0.009067736170931897\n",
            "Epoch 7 step 198\n",
            "\tLoss average 0.228813\n",
            "\tLoss valid average 0.757977, acc valid 0.785467\n",
            "learning_rate  0.009239522072016112\n",
            "Epoch 7 step 297\n",
            "\tLoss average 0.247983\n",
            "\tLoss valid average 0.752397, acc valid 0.791933\n",
            "learning_rate  0.009395183987963646\n",
            "Epoch 7 step 396\n",
            "\tLoss average 0.254262\n",
            "\tLoss valid average 0.792486, acc valid 0.787467\n",
            "learning_rate  0.009534100585266636\n",
            "Epoch 7 step 495\n",
            "\tLoss average 0.290258\n",
            "\tLoss valid average 0.755876, acc valid 0.781067\n",
            "learning_rate  0.009655717370321573\n",
            "Epoch 8 step 0\n",
            "\tLoss average 0.001557\n",
            "\tLoss valid average 0.748508, acc valid 0.785933\n",
            "learning_rate  0.009712500582806777\n",
            "Epoch 8 step 99\n",
            "\tLoss average 0.168537\n",
            "\tLoss valid average 0.806777, acc valid 0.794000\n",
            "learning_rate  0.009806819780003511\n",
            "Epoch 8 step 198\n",
            "\tLoss average 0.196162\n",
            "\tLoss valid average 0.810435, acc valid 0.782400\n",
            "learning_rate  0.009882750590570368\n",
            "Epoch 8 step 297\n",
            "\tLoss average 0.204771\n",
            "\tLoss valid average 0.815147, acc valid 0.782467\n",
            "learning_rate  0.00993998993230129\n",
            "Epoch 8 step 396\n",
            "\tLoss average 0.216478\n",
            "\tLoss valid average 0.818669, acc valid 0.783133\n",
            "learning_rate  0.00997830933106522\n",
            "Epoch 8 step 495\n",
            "\tLoss average 0.226626\n",
            "\tLoss valid average 0.754146, acc valid 0.792467\n",
            "learning_rate  0.009997555832773751\n",
            "Epoch 9 step 0\n",
            "\tLoss average 0.000859\n",
            "\tLoss valid average 0.745204, acc valid 0.797333\n",
            "learning_rate  0.009999999252029008\n",
            "Epoch 9 step 99\n",
            "\tLoss average 0.122525\n",
            "\tLoss valid average 0.923288, acc valid 0.784800\n",
            "learning_rate  0.00999809260821449\n",
            "Epoch 9 step 198\n",
            "\tLoss average 0.165342\n",
            "\tLoss valid average 0.827133, acc valid 0.791067\n",
            "learning_rate  0.009992522154584266\n",
            "Epoch 9 step 297\n",
            "\tLoss average 0.180726\n",
            "\tLoss valid average 0.807807, acc valid 0.796267\n",
            "learning_rate  0.009983291974528935\n",
            "Epoch 9 step 396\n",
            "\tLoss average 0.171316\n",
            "\tLoss valid average 0.797563, acc valid 0.793000\n",
            "learning_rate  0.00997040883418155\n",
            "Epoch 9 step 495\n",
            "\tLoss average 0.173564\n",
            "\tLoss valid average 0.823082, acc valid 0.785600\n",
            "learning_rate  0.00995388217745775\n",
            "Epoch 10 step 0\n",
            "\tLoss average 0.002299\n",
            "\tLoss valid average 0.844723, acc valid 0.790533\n",
            "learning_rate  0.009943745999159582\n",
            "Epoch 10 step 99\n",
            "\tLoss average 0.116605\n",
            "\tLoss valid average 0.886779, acc valid 0.792467\n",
            "learning_rate  0.009921686288785873\n",
            "Epoch 10 step 198\n",
            "\tLoss average 0.124714\n",
            "\tLoss valid average 0.903538, acc valid 0.791533\n",
            "learning_rate  0.009896018777831429\n",
            "Epoch 10 step 297\n",
            "\tLoss average 0.146611\n",
            "\tLoss valid average 0.890361, acc valid 0.784467\n",
            "learning_rate  0.009866762281724907\n",
            "Epoch 10 step 396\n",
            "\tLoss average 0.196740\n",
            "\tLoss valid average 0.826499, acc valid 0.787600\n",
            "learning_rate  0.009833938246780916\n",
            "Epoch 10 step 495\n",
            "\tLoss average 0.166908\n",
            "\tLoss valid average 0.826307, acc valid 0.789733\n",
            "learning_rate  0.00979757073447892\n",
            "Epoch 11 step 0\n",
            "\tLoss average 0.000955\n",
            "\tLoss valid average 0.810714, acc valid 0.796200\n",
            "learning_rate  0.009777058076730228\n",
            "Epoch 11 step 99\n",
            "\tLoss average 0.093574\n",
            "\tLoss valid average 0.912810, acc valid 0.791133\n",
            "learning_rate  0.009735338077274506\n",
            "Epoch 11 step 198\n",
            "\tLoss average 0.116549\n",
            "\tLoss valid average 0.855903, acc valid 0.795133\n",
            "learning_rate  0.00969014687877628\n",
            "Epoch 11 step 297\n",
            "\tLoss average 0.120197\n",
            "\tLoss valid average 0.881410, acc valid 0.793333\n",
            "learning_rate  0.009641517608396677\n",
            "Epoch 11 step 396\n",
            "\tLoss average 0.132245\n",
            "\tLoss valid average 0.863621, acc valid 0.797200\n",
            "learning_rate  0.009589485913556645\n",
            "Epoch 11 step 495\n",
            "\tLoss average 0.144059\n",
            "\tLoss valid average 0.839152, acc valid 0.792733\n",
            "learning_rate  0.009534089935805776\n",
            "Epoch 12 step 0\n",
            "\tLoss average 0.000682\n",
            "\tLoss valid average 0.820303, acc valid 0.801467\n",
            "learning_rate  0.009503659017484518\n",
            "Epoch 12 step 99\n",
            "\tLoss average 0.071530\n",
            "\tLoss valid average 0.907469, acc valid 0.802533\n",
            "learning_rate  0.009443210684794399\n",
            "Epoch 12 step 198\n",
            "\tLoss average 0.089289\n",
            "\tLoss valid average 0.941289, acc valid 0.795333\n",
            "learning_rate  0.00937950529545063\n",
            "Epoch 12 step 297\n",
            "\tLoss average 0.103884\n",
            "\tLoss valid average 0.913160, acc valid 0.797333\n",
            "learning_rate  0.009312589548340786\n",
            "Epoch 12 step 396\n",
            "\tLoss average 0.110892\n",
            "\tLoss valid average 0.858489, acc valid 0.803267\n",
            "learning_rate  0.009242512495687647\n",
            "Epoch 12 step 495\n",
            "\tLoss average 0.098478\n",
            "\tLoss valid average 0.902077, acc valid 0.796867\n",
            "learning_rate  0.009169325507091762\n",
            "Epoch 13 step 0\n",
            "\tLoss average 0.001334\n",
            "\tLoss valid average 0.881775, acc valid 0.799067\n",
            "learning_rate  0.009129656104627659\n",
            "Epoch 13 step 99\n",
            "\tLoss average 0.057128\n",
            "\tLoss valid average 0.890693, acc valid 0.803333\n",
            "learning_rate  0.009051829754567576\n",
            "Epoch 13 step 198\n",
            "\tLoss average 0.074998\n",
            "\tLoss valid average 0.905660, acc valid 0.801067\n",
            "learning_rate  0.008971033247506218\n",
            "Epoch 13 step 297\n",
            "\tLoss average 0.084757\n",
            "\tLoss valid average 0.884404, acc valid 0.801933\n",
            "learning_rate  0.008887325810881617\n",
            "Epoch 13 step 396\n",
            "\tLoss average 0.074336\n",
            "\tLoss valid average 0.889044, acc valid 0.803067\n",
            "learning_rate  0.008800768805972803\n",
            "Epoch 13 step 495\n",
            "\tLoss average 0.073854\n",
            "\tLoss valid average 0.888830, acc valid 0.805800\n",
            "learning_rate  0.008711425682919273\n",
            "Epoch 14 step 0\n",
            "\tLoss average 0.000146\n",
            "\tLoss valid average 0.927266, acc valid 0.799733\n",
            "learning_rate  0.008663403945211659\n",
            "Epoch 14 step 99\n",
            "\tLoss average 0.053310\n",
            "\tLoss valid average 1.008935, acc valid 0.796467\n",
            "learning_rate  0.00856993808983778\n",
            "Epoch 14 step 198\n",
            "\tLoss average 0.074765\n",
            "\tLoss valid average 0.953911, acc valid 0.799800\n",
            "learning_rate  0.00847385532551438\n",
            "Epoch 14 step 297\n",
            "\tLoss average 0.065592\n",
            "\tLoss valid average 0.984795, acc valid 0.801000\n",
            "learning_rate  0.00837522608518684\n",
            "Epoch 14 step 396\n",
            "\tLoss average 0.085361\n",
            "\tLoss valid average 0.925314, acc valid 0.797333\n",
            "learning_rate  0.008274122668480868\n",
            "Epoch 14 step 495\n",
            "\tLoss average 0.071344\n",
            "\tLoss valid average 0.934292, acc valid 0.797733\n",
            "learning_rate  0.008170619188703645\n",
            "Epoch 15 step 0\n",
            "\tLoss average 0.000308\n",
            "\tLoss valid average 0.934060, acc valid 0.800733\n",
            "learning_rate  0.008115317842019373\n",
            "Epoch 15 step 99\n",
            "\tLoss average 0.056974\n",
            "\tLoss valid average 0.964587, acc valid 0.801133\n",
            "learning_rate  0.008008300354093079\n",
            "Epoch 15 step 198\n",
            "\tLoss average 0.059836\n",
            "\tLoss valid average 0.931140, acc valid 0.804667\n",
            "learning_rate  0.007899077662690625\n",
            "Epoch 15 step 297\n",
            "\tLoss average 0.065047\n",
            "\tLoss valid average 0.926061, acc valid 0.802333\n",
            "learning_rate  0.007787729832909153\n",
            "Epoch 15 step 396\n",
            "\tLoss average 0.054535\n",
            "\tLoss valid average 0.925790, acc valid 0.808467\n",
            "learning_rate  0.007674338487666866\n",
            "Epoch 15 step 495\n",
            "\tLoss average 0.061055\n",
            "\tLoss valid average 0.943809, acc valid 0.804933\n",
            "learning_rate  0.007558986747869822\n",
            "Epoch 16 step 0\n",
            "\tLoss average 0.000562\n",
            "\tLoss valid average 0.915902, acc valid 0.803200\n",
            "learning_rate  0.007497641132911094\n",
            "Epoch 16 step 99\n",
            "\tLoss average 0.035276\n",
            "\tLoss valid average 0.953498, acc valid 0.801933\n",
            "learning_rate  0.00737946260627158\n",
            "Epoch 16 step 198\n",
            "\tLoss average 0.046710\n",
            "\tLoss valid average 0.959648, acc valid 0.806400\n",
            "learning_rate  0.007259539842230944\n",
            "Epoch 16 step 297\n",
            "\tLoss average 0.031654\n",
            "\tLoss valid average 0.987517, acc valid 0.807000\n",
            "learning_rate  0.007137960749516106\n",
            "Epoch 16 step 396\n",
            "\tLoss average 0.037256\n",
            "\tLoss valid average 1.029617, acc valid 0.808800\n",
            "learning_rate  0.00701481445101666\n",
            "Epoch 16 step 495\n",
            "\tLoss average 0.044931\n",
            "\tLoss valid average 1.021269, acc valid 0.804733\n",
            "learning_rate  0.0068901912184538465\n",
            "Epoch 17 step 0\n",
            "\tLoss average 0.000024\n",
            "\tLoss valid average 0.976995, acc valid 0.807733\n",
            "learning_rate  0.006824171694888264\n",
            "Epoch 17 step 99\n",
            "\tLoss average 0.029143\n",
            "\tLoss valid average 1.022905, acc valid 0.807867\n",
            "learning_rate  0.006697472042536521\n",
            "Epoch 17 step 198\n",
            "\tLoss average 0.030556\n",
            "\tLoss valid average 1.041771, acc valid 0.803200\n",
            "learning_rate  0.006569528082239967\n",
            "Epoch 17 step 297\n",
            "\tLoss average 0.039585\n",
            "\tLoss valid average 1.000855, acc valid 0.808800\n",
            "learning_rate  0.0064404336026196085\n",
            "Epoch 17 step 396\n",
            "\tLoss average 0.039228\n",
            "\tLoss valid average 1.027729, acc valid 0.804267\n",
            "learning_rate  0.00631028323567835\n",
            "Epoch 17 step 495\n",
            "\tLoss average 0.051218\n",
            "\tLoss valid average 0.996512, acc valid 0.806067\n",
            "learning_rate  0.006179172387431527\n",
            "Epoch 18 step 0\n",
            "\tLoss average 0.000118\n",
            "\tLoss valid average 0.984224, acc valid 0.806667\n",
            "learning_rate  0.006109953722321568\n",
            "Epoch 18 step 99\n",
            "\tLoss average 0.027008\n",
            "\tLoss valid average 0.982119, acc valid 0.807533\n",
            "learning_rate  0.00597756320512626\n",
            "Epoch 18 step 198\n",
            "\tLoss average 0.027943\n",
            "\tLoss valid average 1.026870, acc valid 0.808467\n",
            "learning_rate  0.005844456105225783\n",
            "Epoch 18 step 297\n",
            "\tLoss average 0.028040\n",
            "\tLoss valid average 1.046584, acc valid 0.807533\n",
            "learning_rate  0.005710729996052419\n",
            "Epoch 18 step 396\n",
            "\tLoss average 0.029595\n",
            "\tLoss valid average 1.019019, acc valid 0.808600\n",
            "learning_rate  0.005576482904799804\n",
            "Epoch 18 step 495\n",
            "\tLoss average 0.026899\n",
            "\tLoss valid average 1.023461, acc valid 0.812600\n",
            "learning_rate  0.005441813240564655\n",
            "Epoch 19 step 0\n",
            "\tLoss average 0.000579\n",
            "\tLoss valid average 1.054983, acc valid 0.810600\n",
            "learning_rate  0.005370941664508473\n",
            "Epoch 19 step 99\n",
            "\tLoss average 0.020834\n",
            "\tLoss valid average 1.014213, acc valid 0.813133\n",
            "learning_rate  0.005235817667854997\n",
            "Epoch 19 step 198\n",
            "\tLoss average 0.022414\n",
            "\tLoss valid average 1.039551, acc valid 0.808867\n",
            "learning_rate  0.0051005208210095155\n",
            "Epoch 19 step 297\n",
            "\tLoss average 0.022896\n",
            "\tLoss valid average 1.057492, acc valid 0.812000\n",
            "learning_rate  0.004965150302586333\n",
            "Epoch 19 step 396\n",
            "\tLoss average 0.028816\n",
            "\tLoss valid average 1.045987, acc valid 0.810800\n",
            "learning_rate  0.004829805345204308\n",
            "Epoch 19 step 495\n",
            "\tLoss average 0.025190\n",
            "\tLoss valid average 1.053455, acc valid 0.813333\n",
            "learning_rate  0.004694585162744921\n",
            "Epoch 20 step 0\n",
            "\tLoss average 0.000088\n",
            "\tLoss valid average 1.057117, acc valid 0.807867\n",
            "learning_rate  0.004623643829639857\n",
            "Epoch 20 step 99\n",
            "\tLoss average 0.018241\n",
            "\tLoss valid average 1.067670, acc valid 0.812667\n",
            "learning_rate  0.004488804800327774\n",
            "Epoch 20 step 198\n",
            "\tLoss average 0.020090\n",
            "\tLoss valid average 1.045486, acc valid 0.811667\n",
            "learning_rate  0.0043543405145245\n",
            "Epoch 20 step 297\n",
            "\tLoss average 0.019886\n",
            "\tLoss valid average 1.044900, acc valid 0.814000\n",
            "learning_rate  0.004220349540540028\n",
            "Epoch 20 step 396\n",
            "\tLoss average 0.023818\n",
            "\tLoss valid average 1.060245, acc valid 0.809267\n",
            "learning_rate  0.004086930099725699\n",
            "Epoch 20 step 495\n",
            "\tLoss average 0.017050\n",
            "\tLoss valid average 1.065597, acc valid 0.812533\n",
            "learning_rate  0.0039541799944735915\n",
            "Epoch 21 step 0\n",
            "\tLoss average 0.000060\n",
            "\tLoss valid average 1.034592, acc valid 0.814800\n",
            "learning_rate  0.0038847536164741893\n",
            "Epoch 21 step 99\n",
            "\tLoss average 0.013107\n",
            "\tLoss valid average 1.034693, acc valid 0.820267\n",
            "learning_rate  0.0037532116356035388\n",
            "Epoch 21 step 198\n",
            "\tLoss average 0.010727\n",
            "\tLoss valid average 1.032883, acc valid 0.815867\n",
            "learning_rate  0.0036225836207917773\n",
            "Epoch 21 step 297\n",
            "\tLoss average 0.009649\n",
            "\tLoss valid average 1.051238, acc valid 0.815933\n",
            "learning_rate  0.0034929653281914083\n",
            "Epoch 21 step 396\n",
            "\tLoss average 0.008019\n",
            "\tLoss valid average 1.054821, acc valid 0.816533\n",
            "learning_rate  0.003364451773783576\n",
            "Epoch 21 step 495\n",
            "\tLoss average 0.010809\n",
            "\tLoss valid average 1.078889, acc valid 0.817867\n",
            "learning_rate  0.003237137163727135\n",
            "Epoch 22 step 0\n",
            "\tLoss average 0.000008\n",
            "\tLoss valid average 1.056676, acc valid 0.820000\n",
            "learning_rate  0.0031707766113942644\n",
            "Epoch 22 step 99\n",
            "\tLoss average 0.006012\n",
            "\tLoss valid average 1.093752, acc valid 0.818333\n",
            "learning_rate  0.003045470109451118\n",
            "Epoch 22 step 198\n",
            "\tLoss average 0.005779\n",
            "\tLoss valid average 1.060866, acc valid 0.821267\n",
            "learning_rate  0.0029215963796254685\n",
            "Epoch 22 step 297\n",
            "\tLoss average 0.005007\n",
            "\tLoss valid average 1.084013, acc valid 0.821467\n",
            "learning_rate  0.0027992462268781114\n",
            "Epoch 22 step 396\n",
            "\tLoss average 0.006669\n",
            "\tLoss valid average 1.093573, acc valid 0.821667\n",
            "learning_rate  0.00267850933931999\n",
            "Epoch 22 step 495\n",
            "\tLoss average 0.008975\n",
            "\tLoss valid average 1.095641, acc valid 0.817133\n",
            "learning_rate  0.0025594742224668197\n",
            "Epoch 23 step 0\n",
            "\tLoss average 0.000014\n",
            "\tLoss valid average 1.106626, acc valid 0.820467\n",
            "learning_rate  0.0024976618808820856\n",
            "Epoch 23 step 99\n",
            "\tLoss average 0.004726\n",
            "\tLoss valid average 1.098823, acc valid 0.822333\n",
            "learning_rate  0.00238138999805709\n",
            "Epoch 23 step 198\n",
            "\tLoss average 0.005623\n",
            "\tLoss valid average 1.099443, acc valid 0.821400\n",
            "learning_rate  0.0022670376876466787\n",
            "Epoch 23 step 297\n",
            "\tLoss average 0.004146\n",
            "\tLoss valid average 1.114894, acc valid 0.821067\n",
            "learning_rate  0.002154688774987171\n",
            "Epoch 23 step 396\n",
            "\tLoss average 0.005734\n",
            "\tLoss valid average 1.091790, acc valid 0.822533\n",
            "learning_rate  0.0020444256168351102\n",
            "Epoch 23 step 495\n",
            "\tLoss average 0.003414\n",
            "\tLoss valid average 1.109894, acc valid 0.823867\n",
            "learning_rate  0.0019363290409960961\n",
            "Epoch 24 step 0\n",
            "\tLoss average 0.000003\n",
            "\tLoss valid average 1.110986, acc valid 0.824667\n",
            "learning_rate  0.0018804456957286818\n",
            "Epoch 24 step 99\n",
            "\tLoss average 0.001016\n",
            "\tLoss valid average 1.102646, acc valid 0.823333\n",
            "learning_rate  0.0017758057537506477\n",
            "Epoch 24 step 198\n",
            "\tLoss average 0.003558\n",
            "\tLoss valid average 1.105505, acc valid 0.823600\n",
            "learning_rate  0.0016735293044085394\n",
            "Epoch 24 step 297\n",
            "\tLoss average 0.002776\n",
            "\tLoss valid average 1.111683, acc valid 0.824933\n",
            "learning_rate  0.0015736913208947022\n",
            "Epoch 24 step 396\n",
            "\tLoss average 0.002332\n",
            "\tLoss valid average 1.118044, acc valid 0.826000\n",
            "learning_rate  0.001476364988897434\n",
            "Epoch 24 step 495\n",
            "\tLoss average 0.002777\n",
            "\tLoss valid average 1.107819, acc valid 0.824800\n",
            "learning_rate  0.0013816216529526073\n",
            "Epoch 25 step 0\n",
            "\tLoss average 0.000005\n",
            "\tLoss valid average 1.116373, acc valid 0.821733\n",
            "learning_rate  0.00133291564559134\n",
            "Epoch 25 step 99\n",
            "\tLoss average 0.001999\n",
            "\tLoss valid average 1.109383, acc valid 0.827467\n",
            "learning_rate  0.0012422451278517545\n",
            "Epoch 25 step 198\n",
            "\tLoss average 0.002289\n",
            "\tLoss valid average 1.121441, acc valid 0.825467\n",
            "learning_rate  0.0011543292264495051\n",
            "Epoch 25 step 297\n",
            "\tLoss average 0.001447\n",
            "\tLoss valid average 1.113134, acc valid 0.822200\n",
            "learning_rate  0.0010692323876557407\n",
            "Epoch 25 step 396\n",
            "\tLoss average 0.001748\n",
            "\tLoss valid average 1.128632, acc valid 0.823800\n",
            "learning_rate  0.0009870169912431616\n",
            "Epoch 25 step 495\n",
            "\tLoss average 0.001774\n",
            "\tLoss valid average 1.106467, acc valid 0.825733\n",
            "learning_rate  0.0009077433047588784\n",
            "Epoch 26 step 0\n",
            "\tLoss average 0.000012\n",
            "\tLoss valid average 1.105045, acc valid 0.829800\n",
            "learning_rate  0.0008673026470239533\n",
            "Epoch 26 step 99\n",
            "\tLoss average 0.001120\n",
            "\tLoss valid average 1.130857, acc valid 0.827200\n",
            "learning_rate  0.0007926269830606006\n",
            "Epoch 26 step 198\n",
            "\tLoss average 0.001663\n",
            "\tLoss valid average 1.118680, acc valid 0.827267\n",
            "learning_rate  0.0007210355255588841\n",
            "Epoch 26 step 297\n",
            "\tLoss average 0.001523\n",
            "\tLoss valid average 1.120293, acc valid 0.826067\n",
            "learning_rate  0.0006525807542455477\n",
            "Epoch 26 step 396\n",
            "\tLoss average 0.002749\n",
            "\tLoss valid average 1.119983, acc valid 0.824933\n",
            "learning_rate  0.0005873128495166618\n",
            "Epoch 26 step 495\n",
            "\tLoss average 0.001020\n",
            "\tLoss valid average 1.108248, acc valid 0.827133\n",
            "learning_rate  0.0005252796556531602\n",
            "Epoch 27 step 0\n",
            "\tLoss average 0.000018\n",
            "\tLoss valid average 1.120685, acc valid 0.825867\n",
            "learning_rate  0.0004940077250121997\n",
            "Epoch 27 step 99\n",
            "\tLoss average 0.002429\n",
            "\tLoss valid average 1.112352, acc valid 0.823467\n",
            "learning_rate  0.0004369950457601987\n",
            "Epoch 27 step 198\n",
            "\tLoss average 0.000723\n",
            "\tLoss valid average 1.115566, acc valid 0.826600\n",
            "learning_rate  0.00038332726701828176\n",
            "Epoch 27 step 297\n",
            "\tLoss average 0.001185\n",
            "\tLoss valid average 1.110229, acc valid 0.826733\n",
            "learning_rate  0.0003330437296584111\n",
            "Epoch 27 step 396\n",
            "\tLoss average 0.001455\n",
            "\tLoss valid average 1.115458, acc valid 0.826600\n",
            "learning_rate  0.0002861812937528952\n",
            "Epoch 27 step 495\n",
            "\tLoss average 0.001273\n",
            "\tLoss valid average 1.130564, acc valid 0.824000\n",
            "learning_rate  0.0002427743115543171\n",
            "Epoch 28 step 0\n",
            "\tLoss average 0.000001\n",
            "\tLoss valid average 1.120369, acc valid 0.826467\n",
            "learning_rate  0.00022136967126253098\n",
            "Epoch 28 step 99\n",
            "\tLoss average 0.001043\n",
            "\tLoss valid average 1.106093, acc valid 0.825333\n",
            "learning_rate  0.00018329354576575714\n",
            "Epoch 28 step 198\n",
            "\tLoss average 0.001255\n",
            "\tLoss valid average 1.111313, acc valid 0.825733\n",
            "learning_rate  0.00014874829527739808\n",
            "Epoch 28 step 297\n",
            "\tLoss average 0.000763\n",
            "\tLoss valid average 1.114936, acc valid 0.823600\n",
            "learning_rate  0.00011775924300456743\n",
            "Epoch 28 step 396\n",
            "\tLoss average 0.001057\n",
            "\tLoss valid average 1.102311, acc valid 0.829333\n",
            "learning_rate  9.034910530270678e-05\n",
            "Epoch 28 step 495\n",
            "\tLoss average 0.001597\n",
            "\tLoss valid average 1.119954, acc valid 0.824333\n",
            "learning_rate  6.653797502349035e-05\n",
            "Epoch 29 step 0\n",
            "\tLoss average 0.000003\n",
            "\tLoss valid average 1.130770, acc valid 0.825067\n",
            "learning_rate  5.547876937489274e-05\n",
            "Epoch 29 step 99\n",
            "\tLoss average 0.001016\n",
            "\tLoss valid average 1.110446, acc valid 0.826600\n",
            "learning_rate  3.7189755358039774e-05\n",
            "Epoch 29 step 198\n",
            "\tLoss average 0.001109\n",
            "\tLoss valid average 1.126646, acc valid 0.825800\n",
            "learning_rate  2.253871693484084e-05\n",
            "Epoch 29 step 297\n",
            "\tLoss average 0.001091\n",
            "\tLoss valid average 1.104590, acc valid 0.829400\n",
            "learning_rate  1.1536393968958122e-05\n",
            "Epoch 29 step 396\n",
            "\tLoss average 0.000731\n",
            "\tLoss valid average 1.125512, acc valid 0.827467\n",
            "learning_rate  4.190851653124136e-06\n",
            "Epoch 29 step 495\n",
            "\tLoss average 0.001451\n",
            "\tLoss valid average 1.114778, acc valid 0.826400\n",
            "learning_rate  5.074745969973929e-07\n"
          ],
          "name": "stdout"
        }
      ]
    },
    {
      "cell_type": "code",
      "metadata": {
        "colab": {
          "base_uri": "https://localhost:8080/"
        },
        "id": "KvgBcLLx3yS9",
        "outputId": "64a4a0d1-9682-4bad-b073-4a2428d67273"
      },
      "source": [
        "from torch.optim.lr_scheduler import CosineAnnealingWarmRestarts\r\n",
        "configs.num_epochs = 30\r\n",
        "configs.lr_schedule = {\r\n",
        "    \"class\": CosineAnnealingWarmRestarts,\r\n",
        "    \"metric\":\"epoch\",\r\n",
        "    \"step_type\":\"batch\",\r\n",
        "    \"schedule_args\":{\r\n",
        "        \"T_0\":configs.batch_size\r\n",
        "    }\r\n",
        "}\r\n",
        "trainer = Trainer(configs, data)\r\n",
        "trainer.train(\"file_loss_CosineAnnealingWarmRestarts.txt\")"
      ],
      "execution_count": null,
      "outputs": [
        {
          "output_type": "stream",
          "text": [
            "Epoch 0 step 0\n",
            "\tLoss average 0.001149\n",
            "\tLoss valid average 2.304127, acc valid 0.113800\n",
            "learning_rate  0.01\n",
            "Epoch 0 step 1999\n",
            "\tLoss average 1.753736\n",
            "\tLoss valid average 1.458736, acc valid 0.469267\n",
            "learning_rate  0.0008770534860748747\n",
            "Epoch 1 step 0\n",
            "\tLoss average 0.000692\n",
            "\tLoss valid average 1.566385, acc valid 0.434200\n",
            "learning_rate  0.009903926402016152\n",
            "Epoch 1 step 1999\n",
            "\tLoss average 1.459135\n",
            "\tLoss valid average 1.348057, acc valid 0.520600\n",
            "learning_rate  0.0004044307415497112\n",
            "Epoch 2 step 0\n",
            "\tLoss average 0.000597\n",
            "\tLoss valid average 1.369567, acc valid 0.512800\n",
            "learning_rate  0.009619397662556433\n",
            "Epoch 2 step 1999\n",
            "\tLoss average 1.346233\n",
            "\tLoss valid average 1.284873, acc valid 0.549600\n",
            "learning_rate  0.00010841314640186228\n",
            "Epoch 3 step 0\n",
            "\tLoss average 0.000754\n",
            "\tLoss valid average 1.314781, acc valid 0.532267\n",
            "learning_rate  0.009157348061512726\n",
            "Epoch 3 step 1999\n",
            "\tLoss average 1.275652\n",
            "\tLoss valid average 1.265651, acc valid 0.557600\n",
            "learning_rate  3.7649080427748504e-07\n",
            "Epoch 4 step 0\n",
            "\tLoss average 0.000800\n",
            "\tLoss valid average 1.274014, acc valid 0.551867\n",
            "learning_rate  0.008535533905932738\n",
            "Epoch 4 step 1999\n",
            "\tLoss average 1.236385\n",
            "\tLoss valid average 1.370988, acc valid 0.519267\n",
            "learning_rate  0.009915527437156083\n",
            "Epoch 5 step 0\n",
            "\tLoss average 0.000770\n",
            "\tLoss valid average 1.250409, acc valid 0.561333\n",
            "learning_rate  0.007777851165098011\n",
            "Epoch 5 step 1999\n",
            "\tLoss average 1.187911\n",
            "\tLoss valid average 1.320772, acc valid 0.534667\n",
            "learning_rate  0.00964253040236608\n",
            "Epoch 6 step 0\n",
            "\tLoss average 0.000628\n",
            "\tLoss valid average 1.226963, acc valid 0.572467\n",
            "learning_rate  0.00691341716182545\n",
            "Epoch 6 step 1999\n",
            "\tLoss average 1.150215\n",
            "\tLoss valid average 1.497560, acc valid 0.486133\n",
            "learning_rate  0.00919112352777419\n",
            "Epoch 7 step 0\n",
            "\tLoss average 0.000327\n",
            "\tLoss valid average 1.244854, acc valid 0.570133\n",
            "learning_rate  0.005975451610080642\n",
            "Epoch 7 step 1999\n",
            "\tLoss average 1.138284\n",
            "\tLoss valid average 1.505508, acc valid 0.506600\n",
            "learning_rate  0.008578654126419094\n",
            "Epoch 8 step 0\n",
            "\tLoss average 0.000706\n",
            "\tLoss valid average 1.233664, acc valid 0.575467\n",
            "learning_rate  0.005\n",
            "Epoch 8 step 1999\n",
            "\tLoss average 1.119864\n",
            "\tLoss valid average 1.496535, acc valid 0.513533\n",
            "learning_rate  0.007828659053918066\n",
            "Epoch 9 step 0\n",
            "\tLoss average 0.000493\n",
            "\tLoss valid average 1.489112, acc valid 0.518267\n",
            "learning_rate  0.004024548389919359\n",
            "Epoch 9 step 1999\n",
            "\tLoss average 1.090537\n",
            "\tLoss valid average 1.350936, acc valid 0.541800\n",
            "learning_rate  0.006969960200305241\n",
            "Epoch 10 step 0\n",
            "\tLoss average 0.000486\n",
            "\tLoss valid average 1.420205, acc valid 0.524800\n",
            "learning_rate  0.0030865828381745515\n",
            "Epoch 10 step 1999\n",
            "\tLoss average 1.082603\n",
            "\tLoss valid average 1.427976, acc valid 0.537000\n",
            "learning_rate  0.006035556880961093\n",
            "Epoch 11 step 0\n",
            "\tLoss average 0.000512\n",
            "\tLoss valid average 1.404258, acc valid 0.529533\n",
            "learning_rate  0.00222214883490199\n",
            "Epoch 11 step 1999\n",
            "\tLoss average 1.068820\n",
            "\tLoss valid average 1.439137, acc valid 0.537067\n",
            "learning_rate  0.0050613576914286\n",
            "Epoch 12 step 0\n",
            "\tLoss average 0.000552\n",
            "\tLoss valid average 1.429842, acc valid 0.521467\n",
            "learning_rate  0.0014644660940672626\n",
            "Epoch 12 step 1999\n",
            "\tLoss average 1.057079\n",
            "\tLoss valid average 1.355452, acc valid 0.550467\n",
            "learning_rate  0.004084800560224295\n",
            "Epoch 13 step 0\n",
            "\tLoss average 0.000509\n",
            "\tLoss valid average 1.421867, acc valid 0.536067\n",
            "learning_rate  0.0008426519384872733\n",
            "Epoch 13 step 1999\n",
            "\tLoss average 1.056571\n",
            "\tLoss valid average 1.321981, acc valid 0.559533\n",
            "learning_rate  0.0031434140302408126\n",
            "Epoch 14 step 0\n",
            "\tLoss average 0.000463\n",
            "\tLoss valid average 1.412788, acc valid 0.536267\n",
            "learning_rate  0.0003806023374435663\n",
            "Epoch 14 step 1999\n",
            "\tLoss average 1.056536\n",
            "\tLoss valid average 1.369805, acc valid 0.549800\n",
            "learning_rate  0.0022733750578897687\n",
            "Epoch 15 step 0\n",
            "\tLoss average 0.000475\n",
            "\tLoss valid average 1.511171, acc valid 0.519667\n",
            "learning_rate  9.607359798384785e-05\n",
            "Epoch 15 step 1999\n",
            "\tLoss average 1.053057\n",
            "\tLoss valid average 1.354998, acc valid 0.562533\n",
            "learning_rate  0.001508118752955136\n",
            "Epoch 16 step 0\n",
            "\tLoss average 0.000466\n",
            "\tLoss valid average 1.501689, acc valid 0.530600\n",
            "learning_rate  0.01\n",
            "Epoch 16 step 1999\n",
            "\tLoss average 1.044632\n",
            "\tLoss valid average 1.357643, acc valid 0.570067\n",
            "learning_rate  0.0008770534860748747\n",
            "Epoch 17 step 0\n",
            "\tLoss average 0.000230\n",
            "\tLoss valid average 1.422850, acc valid 0.549667\n",
            "learning_rate  0.009903926402016152\n",
            "Epoch 17 step 1999\n",
            "\tLoss average 1.023364\n",
            "\tLoss valid average 1.381474, acc valid 0.563533\n",
            "learning_rate  0.0004044307415497112\n",
            "Epoch 18 step 0\n",
            "\tLoss average 0.000363\n",
            "\tLoss valid average 1.452451, acc valid 0.539867\n",
            "learning_rate  0.009619397662556433\n",
            "Epoch 18 step 1999\n",
            "\tLoss average 1.015285\n",
            "\tLoss valid average 1.372736, acc valid 0.565733\n",
            "learning_rate  0.00010841314640186228\n",
            "Epoch 19 step 0\n",
            "\tLoss average 0.000398\n",
            "\tLoss valid average 1.374684, acc valid 0.547333\n",
            "learning_rate  0.009157348061512726\n",
            "Epoch 19 step 1999\n",
            "\tLoss average 1.007205\n",
            "\tLoss valid average 1.405056, acc valid 0.554067\n",
            "learning_rate  3.7649080427748504e-07\n",
            "Epoch 20 step 0\n",
            "\tLoss average 0.000446\n",
            "\tLoss valid average 1.412488, acc valid 0.551400\n",
            "learning_rate  0.008535533905932738\n",
            "Epoch 20 step 1999\n",
            "\tLoss average 0.999524\n",
            "\tLoss valid average 1.500975, acc valid 0.542200\n",
            "learning_rate  0.009915527437156083\n",
            "Epoch 21 step 0\n",
            "\tLoss average 0.000263\n",
            "\tLoss valid average 1.443606, acc valid 0.560467\n",
            "learning_rate  0.007777851165098011\n",
            "Epoch 21 step 1999\n",
            "\tLoss average 1.001643\n",
            "\tLoss valid average 1.598011, acc valid 0.527333\n",
            "learning_rate  0.00964253040236608\n",
            "Epoch 22 step 0\n",
            "\tLoss average 0.000482\n",
            "\tLoss valid average 1.450125, acc valid 0.559133\n",
            "learning_rate  0.00691341716182545\n",
            "Epoch 22 step 1999\n",
            "\tLoss average 0.998662\n",
            "\tLoss valid average 1.642835, acc valid 0.478800\n",
            "learning_rate  0.00919112352777419\n",
            "Epoch 23 step 0\n",
            "\tLoss average 0.000359\n",
            "\tLoss valid average 1.451903, acc valid 0.552667\n",
            "learning_rate  0.005975451610080642\n",
            "Epoch 23 step 1999\n",
            "\tLoss average 1.004709\n",
            "\tLoss valid average 1.598665, acc valid 0.506800\n",
            "learning_rate  0.008578654126419094\n",
            "Epoch 24 step 0\n",
            "\tLoss average 0.000358\n",
            "\tLoss valid average 1.419181, acc valid 0.556733\n",
            "learning_rate  0.005\n",
            "Epoch 24 step 1999\n",
            "\tLoss average 0.994549\n",
            "\tLoss valid average 1.659408, acc valid 0.508267\n",
            "learning_rate  0.007828659053918066\n",
            "Epoch 25 step 0\n",
            "\tLoss average 0.000202\n",
            "\tLoss valid average 1.567984, acc valid 0.539400\n",
            "learning_rate  0.004024548389919359\n",
            "Epoch 25 step 1999\n",
            "\tLoss average 0.998185\n",
            "\tLoss valid average 1.608346, acc valid 0.526667\n",
            "learning_rate  0.006969960200305241\n",
            "Epoch 26 step 0\n",
            "\tLoss average 0.001174\n",
            "\tLoss valid average 1.651510, acc valid 0.522667\n",
            "learning_rate  0.0030865828381745515\n",
            "Epoch 26 step 1999\n",
            "\tLoss average 1.019584\n",
            "\tLoss valid average 1.614166, acc valid 0.505733\n",
            "learning_rate  0.006035556880961093\n",
            "Epoch 27 step 0\n",
            "\tLoss average 0.000423\n",
            "\tLoss valid average 1.583400, acc valid 0.532667\n",
            "learning_rate  0.00222214883490199\n",
            "Epoch 27 step 1999\n",
            "\tLoss average 1.014092\n",
            "\tLoss valid average 1.561029, acc valid 0.523000\n",
            "learning_rate  0.0050613576914286\n",
            "Epoch 28 step 0\n",
            "\tLoss average 0.000407\n",
            "\tLoss valid average 1.655545, acc valid 0.516200\n",
            "learning_rate  0.0014644660940672626\n",
            "Epoch 28 step 1999\n",
            "\tLoss average 1.016773\n",
            "\tLoss valid average 1.549682, acc valid 0.526267\n",
            "learning_rate  0.004084800560224295\n",
            "Epoch 29 step 0\n",
            "\tLoss average 0.000465\n",
            "\tLoss valid average 1.603906, acc valid 0.531267\n",
            "learning_rate  0.0008426519384872733\n",
            "Epoch 29 step 1999\n",
            "\tLoss average 1.005919\n",
            "\tLoss valid average 1.660634, acc valid 0.529400\n",
            "learning_rate  0.0031434140302408126\n"
          ],
          "name": "stdout"
        }
      ]
    },
    {
      "cell_type": "markdown",
      "metadata": {
        "id": "PW3BUcWI8jLQ"
      },
      "source": [
        ""
      ]
    },
    {
      "cell_type": "markdown",
      "metadata": {
        "id": "40bGiR4pDSWr"
      },
      "source": [
        "# Test load model\r\n"
      ]
    },
    {
      "cell_type": "code",
      "metadata": {
        "colab": {
          "base_uri": "https://localhost:8080/",
          "height": 105,
          "referenced_widgets": [
            "0e90af7d35ee4384bfc913449eec7cf5",
            "f4cd1529a1c147608f2a9d4dc9be98f0",
            "c6482cbc55e944528a846ca6f3a2753f",
            "5189646d8e5943b8a54c6a00644eb44b",
            "b29525e6d9724b7eafc5815c4c993018",
            "0af582b1d8ff4137a35eb287a80f7223",
            "a27389bd576c44b7ade102d34e223212",
            "4ec364889fa14969b76627a3752ab917"
          ]
        },
        "id": "iYO3VZEgDXNF",
        "outputId": "8c1d13a2-3879-4f49-f1cf-7f257aa4e9ee"
      },
      "source": [
        "from train.train import Trainer\r\n",
        "trainer = Trainer(configs, data)"
      ],
      "execution_count": null,
      "outputs": [
        {
          "output_type": "stream",
          "text": [
            "Downloading: \"https://download.pytorch.org/models/resnet18-5c106cde.pth\" to /root/.cache/torch/hub/checkpoints/resnet18-5c106cde.pth\n"
          ],
          "name": "stderr"
        },
        {
          "output_type": "display_data",
          "data": {
            "application/vnd.jupyter.widget-view+json": {
              "model_id": "0e90af7d35ee4384bfc913449eec7cf5",
              "version_minor": 0,
              "version_major": 2
            },
            "text/plain": [
              "HBox(children=(FloatProgress(value=0.0, max=46827520.0), HTML(value='')))"
            ]
          },
          "metadata": {
            "tags": []
          }
        },
        {
          "output_type": "stream",
          "text": [
            "\n"
          ],
          "name": "stdout"
        }
      ]
    },
    {
      "cell_type": "code",
      "metadata": {
        "id": "9uG-SPxIDmFq"
      },
      "source": [
        "trainer.load_checkpoint(\"checkpoint_19\")"
      ],
      "execution_count": null,
      "outputs": []
    },
    {
      "cell_type": "code",
      "metadata": {
        "colab": {
          "base_uri": "https://localhost:8080/"
        },
        "id": "SyP5-ezXDstU",
        "outputId": "184523c6-fb7b-4984-8784-a0c910fd19d2"
      },
      "source": [
        "trainer.evaluate(\"test\")"
      ],
      "execution_count": null,
      "outputs": [
        {
          "output_type": "execute_result",
          "data": {
            "text/plain": [
              "(tensor(0.2303), tensor(0.9309))"
            ]
          },
          "metadata": {
            "tags": []
          },
          "execution_count": 7
        }
      ]
    },
    {
      "cell_type": "code",
      "metadata": {
        "id": "hIbZBtUoHWMV"
      },
      "source": [
        "import numpy as np\r\n",
        "import torch\r\n",
        "\r\n",
        "class Accuracy:\r\n",
        "    def __init__(self, threshold = 0.5, from_logits:bool = True):\r\n",
        "        self.threshold = threshold\r\n",
        "        self.from_logis = from_logits\r\n",
        "    \r\n",
        "    def __call__(self, y_pred: torch.Tensor, y_true: torch.Tensor) -> torch.Tensor:\r\n",
        "        if self.from_logis:\r\n",
        "            y_pred, y_true = self._conversion(y_pred, y_true, self.threshold)\r\n",
        "       return torch.mean((y_pred == y_true).float())\r\n",
        "    \r\n",
        "    def _conversion(self, y_pred, y_true, threshold):\r\n",
        "        if len(y_pred.shape) == len(y_true.shape) + 1:\r\n",
        "            y_pred = torch.argmax(y_pred, dim = 1)\r\n",
        "        if len(y_pred.shape) == len(y_true.shape) and y_pred.dtype == torch.float:\r\n",
        "            y_pred = (y_pred > threshold).float()\r\n",
        "        return y_pred, y_true"
      ],
      "execution_count": null,
      "outputs": []
    },
    {
      "cell_type": "code",
      "metadata": {
        "id": "jaSbM3HYHZDz"
      },
      "source": [
        "trainer.metric = acc2"
      ],
      "execution_count": null,
      "outputs": []
    },
    {
      "cell_type": "code",
      "metadata": {
        "id": "sGTXK5PJHcys"
      },
      "source": [
        "acc2 = Accuracy()"
      ],
      "execution_count": null,
      "outputs": []
    },
    {
      "cell_type": "code",
      "metadata": {
        "colab": {
          "base_uri": "https://localhost:8080/"
        },
        "id": "7oUfz9nEFpf8",
        "outputId": "f1628004-1959-4af9-afab-8e115b2e7121"
      },
      "source": [
        "trainer.net.state_dict()['model_base.conv1.weight'][0][0]"
      ],
      "execution_count": null,
      "outputs": [
        {
          "output_type": "execute_result",
          "data": {
            "text/plain": [
              "tensor([[-7.2387e-03, -4.3032e-03,  7.6979e-04,  7.6697e-02,  5.8826e-02,\n",
              "          1.9195e-02, -1.0880e-02],\n",
              "        [ 1.4225e-02,  1.0641e-02, -1.0835e-01, -2.7935e-01, -2.6991e-01,\n",
              "         -1.2867e-01,  4.4405e-03],\n",
              "        [-2.9536e-03,  6.1346e-02,  2.9757e-01,  5.8881e-01,  5.2089e-01,\n",
              "          2.5660e-01,  6.3898e-02],\n",
              "        [ 3.5042e-02, -6.4121e-02, -2.9615e-01, -4.3755e-01, -2.7021e-01,\n",
              "         -6.2128e-04,  5.7817e-02],\n",
              "        [-2.2808e-02,  1.9549e-02,  7.5048e-02, -5.3687e-02, -3.3227e-01,\n",
              "         -4.2030e-01, -2.5778e-01],\n",
              "        [ 3.5642e-02,  4.4872e-02,  6.4830e-02,  2.3846e-01,  4.1393e-01,\n",
              "          3.9332e-01,  1.6538e-01],\n",
              "        [-9.1539e-03, -5.1443e-04, -2.2945e-02, -6.6212e-02, -1.5076e-01,\n",
              "         -8.2958e-02, -7.3083e-03]], device='cuda:0')"
            ]
          },
          "metadata": {
            "tags": []
          },
          "execution_count": 13
        }
      ]
    },
    {
      "cell_type": "code",
      "metadata": {
        "colab": {
          "base_uri": "https://localhost:8080/"
        },
        "id": "GoaE-BpwGGUZ",
        "outputId": "d4600288-471a-40e8-f94a-19bda3118cab"
      },
      "source": [
        "len(trainer.data.test_dataset)"
      ],
      "execution_count": null,
      "outputs": [
        {
          "output_type": "execute_result",
          "data": {
            "text/plain": [
              "333"
            ]
          },
          "metadata": {
            "tags": []
          },
          "execution_count": 19
        }
      ]
    },
    {
      "cell_type": "code",
      "metadata": {
        "colab": {
          "base_uri": "https://localhost:8080/"
        },
        "id": "IigcBHTlFuQ_",
        "outputId": "bd63b9f8-48f1-4feb-d9f8-b3e748b1f501"
      },
      "source": [
        "trainer.net(trainer.data.test_dataset[0][0][None,...].cuda())"
      ],
      "execution_count": null,
      "outputs": [
        {
          "output_type": "execute_result",
          "data": {
            "text/plain": [
              "tensor([[ 8.6279, 10.2966, -1.9991, -2.0178, -2.0876, -1.9127, -2.8191, -2.4133,\n",
              "         -2.0989, -2.7802]], device='cuda:0', grad_fn=<AddmmBackward>)"
            ]
          },
          "metadata": {
            "tags": []
          },
          "execution_count": 23
        }
      ]
    },
    {
      "cell_type": "code",
      "metadata": {
        "id": "NL2qBYCWGnMN"
      },
      "source": [
        ""
      ],
      "execution_count": null,
      "outputs": []
    }
  ]
}